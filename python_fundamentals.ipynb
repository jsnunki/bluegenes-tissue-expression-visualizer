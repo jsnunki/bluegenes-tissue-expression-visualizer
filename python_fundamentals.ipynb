{
  "nbformat": 4,
  "nbformat_minor": 0,
  "metadata": {
    "colab": {
      "name": "python-fundamentals.ipynb",
      "provenance": [],
      "authorship_tag": "ABX9TyMyBXFt03kCttX0QKHvVZJE",
      "include_colab_link": true
    },
    "kernelspec": {
      "name": "python3",
      "display_name": "Python 3"
    }
  },
  "cells": [
    {
      "cell_type": "markdown",
      "metadata": {
        "id": "view-in-github",
        "colab_type": "text"
      },
      "source": [
        "<a href=\"https://colab.research.google.com/github/jsnunki/bluegenes-tissue-expression-visualizer/blob/master/python_fundamentals.ipynb\" target=\"_parent\"><img src=\"https://colab.research.google.com/assets/colab-badge.svg\" alt=\"Open In Colab\"/></a>"
      ]
    },
    {
      "cell_type": "markdown",
      "metadata": {
        "id": "PXtmBkZcL0sb",
        "colab_type": "text"
      },
      "source": [
        "Welcome to Python for Data Science: Fundamentals! by Dataquest\n",
        "\n",
        "In this course, we’ll learn the fundamentals of data science and Python programming. We'll then use this knowledge to analyze data about thousands of Android and Google Play mobile apps. We’ve designed this course for beginners — no previous math, stats, or programming experience required — so you can start learning right away.\n",
        "\n",
        "At the end of the course, you’ll have a portfolio-worthy project to share with potential employers, and a certificate of completion to add to your LinkedIn profile.\n",
        "\n",
        "In this course, we’ll focus primarily on Python programming for data science. In later courses, we'll build on this programming knowledge to learn data visualization, statistics, linear algebra, machine learning, databases, and more. All these courses fit together in a well-organized curriculum, so you don't have to get to the end of a course and worry about what to do next.\n",
        "\n",
        "![alt text](https://s3.amazonaws.com/dq-content/311/py1m1_curriculum_new.gif)\n",
        "\n",
        "There's been a lot of discussion and enthusiasm around data science in the last couple of years. Using data science, people have been able to build some amazing technologies:\n",
        "\n",
        "![alt text](https://s3.amazonaws.com/dq-content/311/py1m1_achievments.png\n",
        ")\n",
        "\n",
        "To build data science technologies, we need to give the computer the proper instructions to learn from data. When we give instructions to a computer, we say that we're programming it.\n",
        "\n",
        "To program a computer, we need to write the instructions in a special language, which we call a programming language. In this course, we'll learn Python, a programming language that offers great support for data science.\n",
        "\n",
        "We'll start by instructing the computer to add two numbers together: 23 + 7. To do that, we need to:"
      ]
    },
    {
      "cell_type": "code",
      "metadata": {
        "id": "f8-KAu-SObzQ",
        "colab_type": "code",
        "colab": {
          "base_uri": "https://localhost:8080/",
          "height": 34
        },
        "outputId": "3ce38b49-00f9-4c22-dfef-f7c9012d37a1"
      },
      "source": [
        "23+7\n"
      ],
      "execution_count": null,
      "outputs": [
        {
          "output_type": "execute_result",
          "data": {
            "text/plain": [
              "30"
            ]
          },
          "metadata": {
            "tags": []
          },
          "execution_count": 1
        }
      ]
    },
    {
      "cell_type": "markdown",
      "metadata": {
        "id": "r0w_c-KDOtZq",
        "colab_type": "text"
      },
      "source": [
        "Above, we see the computer followed our instruction, and it returned 30 as a result.\n",
        "\n",
        "Let's now do a quick exercise and give the computer a different instruction. The details of the exercise are below this paragraph.\n",
        "\n",
        "Instruct the computer to calculate 8 + 42.\n"
      ]
    },
    {
      "cell_type": "code",
      "metadata": {
        "id": "qdKbfM82OiKh",
        "colab_type": "code",
        "colab": {
          "base_uri": "https://localhost:8080/",
          "height": 34
        },
        "outputId": "1b6fac19-12d3-4801-f96a-6d4c55485884"
      },
      "source": [
        "8+42"
      ],
      "execution_count": null,
      "outputs": [
        {
          "output_type": "execute_result",
          "data": {
            "text/plain": [
              "50"
            ]
          },
          "metadata": {
            "tags": []
          },
          "execution_count": 2
        }
      ]
    },
    {
      "cell_type": "markdown",
      "metadata": {
        "id": "_JkMtTTdO72j",
        "colab_type": "text"
      },
      "source": [
        "However, we can ask the computer to perform more than just one calculation.\n",
        "\n",
        "In the diagram below, we instruct the computer to perform three calculations (the diagram below illustrates the code editor you see on the right of the screen):\n"
      ]
    },
    {
      "cell_type": "code",
      "metadata": {
        "id": "02nex865kLJv",
        "colab_type": "code",
        "colab": {
          "base_uri": "https://localhost:8080/",
          "height": 34
        },
        "outputId": "9023ec0e-232a-4df5-d2a3-cf402b492057"
      },
      "source": [
        "23+7\n",
        "10-6\n",
        "12+38"
      ],
      "execution_count": null,
      "outputs": [
        {
          "output_type": "execute_result",
          "data": {
            "text/plain": [
              "50"
            ]
          },
          "metadata": {
            "tags": []
          },
          "execution_count": 3
        }
      ]
    },
    {
      "cell_type": "markdown",
      "metadata": {
        "id": "gp-Iymd5kYR3",
        "colab_type": "text"
      },
      "source": [
        "The computer returned only 50 as a result, and it may look like it only performed the last addition, 12 + 38.\n",
        "\n",
        "In reality, the computer performed all three calculations, but it only displayed the result for the last one. To display all three results, we need to use the print() command, like this:"
      ]
    },
    {
      "cell_type": "code",
      "metadata": {
        "id": "_yXOvQGikc7Y",
        "colab_type": "code",
        "colab": {
          "base_uri": "https://localhost:8080/",
          "height": 68
        },
        "outputId": "203728b8-d001-4df5-997c-607a8987c71e"
      },
      "source": [
        "print(23+7)\n",
        "print(10-6)\n",
        "print(12+38)"
      ],
      "execution_count": null,
      "outputs": [
        {
          "output_type": "stream",
          "text": [
            "30\n",
            "4\n",
            "50\n"
          ],
          "name": "stdout"
        }
      ]
    },
    {
      "cell_type": "markdown",
      "metadata": {
        "id": "EYkinqDQkswg",
        "colab_type": "text"
      },
      "source": [
        "Now let's practice using the print() command.\n",
        "Using the print() command, display the result for:\n",
        "\n",
        "\n",
        "\n",
        "*   40 + 4\n",
        "*   200 - 25\n",
        "*   14 + 3\n",
        "\n",
        "\n",
        "\n",
        "\n",
        "\n"
      ]
    },
    {
      "cell_type": "code",
      "metadata": {
        "id": "TPN9fGZDk0L3",
        "colab_type": "code",
        "colab": {
          "base_uri": "https://localhost:8080/",
          "height": 68
        },
        "outputId": "e6e39e39-6b06-40e8-e691-3f67515ef5e6"
      },
      "source": [
        "print(40+4)\n",
        "print(200-25)\n",
        "print(14+3)"
      ],
      "execution_count": null,
      "outputs": [
        {
          "output_type": "stream",
          "text": [
            "44\n",
            "175\n",
            "17\n"
          ],
          "name": "stdout"
        }
      ]
    },
    {
      "cell_type": "markdown",
      "metadata": {
        "id": "nXKjYjAjlWe8",
        "colab_type": "text"
      },
      "source": [
        "Previously, we sent the computer three instructions and wrote each on a separate line. If we were to put them all on the same line, we'd get an error:\n",
        "\n",
        "![alt text](https://s3.amazonaws.com/dq-content/311/py1m1_cb3_extra1.svg)\n",
        "\n",
        "print(23 + 7) print(10 - 6) print(12 + 38) resulted in red text describing a syntax error. This is because all programming languages — Python included — have syntax rules. Each line of instructions has to comply with these rules.\n",
        "\n",
        "This is similar to the syntax rules we have in human languages. If you want to use English to tell a friend that you like data science, you need to respect syntax rules to correctly convey your message. Your friend will understand \"I like data science,\" but not \"science I data like.\" Similarly, the computer didn't understand print(23 + 7) print(10 - 6) print(12 + 38) because the syntax was incorrect.\n",
        "\n",
        "Running into errors is common when we're programming, and we'll constantly learn about errors and how to fix them. Now let's practice giving the computer more instructions.\n",
        "\n",
        "\n",
        "\n"
      ]
    },
    {
      "cell_type": "code",
      "metadata": {
        "id": "Ecm9E5AQlXs5",
        "colab_type": "code",
        "colab": {
          "base_uri": "https://localhost:8080/",
          "height": 68
        },
        "outputId": "7b83189f-29f0-420e-9cf8-61c761b95f52"
      },
      "source": [
        "print(30 + 10 + 40)\n",
        "print(4)\n",
        "print(-3)"
      ],
      "execution_count": null,
      "outputs": [
        {
          "output_type": "stream",
          "text": [
            "80\n",
            "4\n",
            "-3\n"
          ],
          "name": "stdout"
        }
      ]
    },
    {
      "cell_type": "markdown",
      "metadata": {
        "id": "HvOXfloul1Hf",
        "colab_type": "text"
      },
      "source": [
        "All these instructions are collectively known as code. And each line of instruction is known as a line of code.\n",
        "\n",
        "![alt text](https://s3.amazonaws.com/dq-content/311/py1m1_code_line_2.svg)\n",
        "\n",
        "When we write code, we program the computer to do something. For this reason, we also call the code we write a computer program, or a program. The program we wrote in the previous exercise had three lines of code, but a program can be as small as one line.\n",
        "\n",
        "The code we write serves as input to the computer. The result of executing the code is called output.\n",
        "\n",
        "![alt text](https://s3.amazonaws.com/dq-content/311/py1m1_io.svg)\n",
        "\n",
        "As we've learned, we can display the output using the print() command. Note, however, that the code editor displays the output of the last line of code regardless of whether we use print() or not. In the example below, we see the output of 2 + 3 is only displayed when 2 + 3 is the last line of code.\n",
        "\n",
        "![alt text](https://s3.amazonaws.com/dq-content/311/py1m1_cb_extra1.svg)\n",
        "\n",
        "Now let's get a little more practice with writing code. On the next screen, we'll learn about code comments."
      ]
    },
    {
      "cell_type": "code",
      "metadata": {
        "id": "bZMXtADXmlMs",
        "colab_type": "code",
        "colab": {
          "base_uri": "https://localhost:8080/",
          "height": 68
        },
        "outputId": "36509cb3-4f73-4c1e-f7f6-9df189d31692"
      },
      "source": [
        "print(34+16)\n",
        "print(34)\n",
        "print(-34)"
      ],
      "execution_count": null,
      "outputs": [
        {
          "output_type": "stream",
          "text": [
            "50\n",
            "34\n",
            "-34\n"
          ],
          "name": "stdout"
        }
      ]
    },
    {
      "cell_type": "markdown",
      "metadata": {
        "id": "HqAw_qtUsPKz",
        "colab_type": "text"
      },
      "source": [
        "The computer executes code from the first line downwards and ignores blank lines.\n",
        "![alt text](https://s3.amazonaws.com/dq-content/311/py1m1_cb_fb3.svg)\n",
        "\n",
        "Besides blank lines, the computer also ignores any sequence of characters that comes to the right of the # symbol. In the example below, we use # before print(5 + 1), and we see the output of print(5 + 1) is not displayed anymore — this is because print(5 + 1) is not executed when it's preceded by #.\n",
        "\n",
        "The sequence of characters that follows the # symbol is called a code comment. We can also use code comments to add information about our code and another way we could use code comments is adding a general description at the beginning of our program.\n",
        "\n",
        "\n"
      ]
    },
    {
      "cell_type": "code",
      "metadata": {
        "id": "2TZAXkNzscUl",
        "colab_type": "code",
        "colab": {
          "base_uri": "https://localhost:8080/",
          "height": 34
        },
        "outputId": "19dae972-70f5-4f7c-cb58-d54e33164821"
      },
      "source": [
        "# Test program\n",
        "# beforeprint(5 + 1)\n",
        "print(5+1)\n",
        "print(8-7) #This is the line that outputs 1"
      ],
      "execution_count": null,
      "outputs": [
        {
          "output_type": "stream",
          "text": [
            "6\n"
          ],
          "name": "stdout"
        }
      ]
    },
    {
      "cell_type": "markdown",
      "metadata": {
        "id": "Fm6iGEt4tLs7",
        "colab_type": "text"
      },
      "source": [
        "Now let's get a little practice with code comments.\n",
        "In the code editor on the right,  We need to add three lines of code and used this # symbol:\n",
        "\n"
      ]
    },
    {
      "cell_type": "code",
      "metadata": {
        "id": "8RP-czjbtOGJ",
        "colab_type": "code",
        "colab": {
          "base_uri": "https://localhost:8080/",
          "height": 68
        },
        "outputId": "6e3723fa-2117-4b75-cd6d-61ca82fe87cc"
      },
      "source": [
        "# INITIAL CODE\n",
        "print(34 + 16)\n",
        "print(34)\n",
        "print(-34)"
      ],
      "execution_count": null,
      "outputs": [
        {
          "output_type": "stream",
          "text": [
            "50\n",
            "34\n",
            "-34\n"
          ],
          "name": "stdout"
        }
      ]
    },
    {
      "cell_type": "markdown",
      "metadata": {
        "id": "tnZlnB-Et6QI",
        "colab_type": "text"
      },
      "source": [
        "Previously, we wrote programs that only performed additions and subtractions. We can also perform multiplication and division in Python. To perform multiplication, we need to use the * character. For instance, this is how we multiply 3 by 2:\n",
        "\n"
      ]
    },
    {
      "cell_type": "code",
      "metadata": {
        "id": "U8Psf8yEuBym",
        "colab_type": "code",
        "colab": {
          "base_uri": "https://localhost:8080/",
          "height": 34
        },
        "outputId": "a4edbc99-de77-402f-a1ef-23d384063673"
      },
      "source": [
        "3*2\n"
      ],
      "execution_count": null,
      "outputs": [
        {
          "output_type": "execute_result",
          "data": {
            "text/plain": [
              "6"
            ]
          },
          "metadata": {
            "tags": []
          },
          "execution_count": 12
        }
      ]
    },
    {
      "cell_type": "markdown",
      "metadata": {
        "id": "73jSq9Y-uFOJ",
        "colab_type": "text"
      },
      "source": [
        "To perform division, we use the / character. This is how we divide 3 by 2:\n",
        "\n"
      ]
    },
    {
      "cell_type": "code",
      "metadata": {
        "id": "NS0HeFGguHIZ",
        "colab_type": "code",
        "colab": {
          "base_uri": "https://localhost:8080/",
          "height": 34
        },
        "outputId": "718c6f0c-b098-48aa-ce5e-a82430f3cdae"
      },
      "source": [
        "3/2"
      ],
      "execution_count": null,
      "outputs": [
        {
          "output_type": "execute_result",
          "data": {
            "text/plain": [
              "1.5"
            ]
          },
          "metadata": {
            "tags": []
          },
          "execution_count": 13
        }
      ]
    },
    {
      "cell_type": "markdown",
      "metadata": {
        "id": "4ePhDqm6uMpq",
        "colab_type": "text"
      },
      "source": [
        "We can also perform exponentiation (raising a number to a power) by using **. For example, this is how we can raise 4 to the power of 2 (in mathematical notation, we'd write this as ).\n"
      ]
    },
    {
      "cell_type": "code",
      "metadata": {
        "id": "dKU1vk3auPwJ",
        "colab_type": "code",
        "colab": {
          "base_uri": "https://localhost:8080/",
          "height": 34
        },
        "outputId": "9076542a-89d2-4788-ac11-f2503fc05d15"
      },
      "source": [
        "4**2"
      ],
      "execution_count": null,
      "outputs": [
        {
          "output_type": "execute_result",
          "data": {
            "text/plain": [
              "16"
            ]
          },
          "metadata": {
            "tags": []
          },
          "execution_count": 14
        }
      ]
    },
    {
      "cell_type": "markdown",
      "metadata": {
        "id": "4dPoXZLKuZBD",
        "colab_type": "text"
      },
      "source": [
        "The arithmetical operations we do in Python follow the usual order of operations we know from mathematics. Parentheses are calculated first, then exponentiation, then division and multiplication, and finally, addition and subtraction."
      ]
    },
    {
      "cell_type": "code",
      "metadata": {
        "id": "R9xmLZ43uZyk",
        "colab_type": "code",
        "colab": {
          "base_uri": "https://localhost:8080/",
          "height": 51
        },
        "outputId": "8adcff42-ea0c-41fd-fa2f-0a4bd99c7fbf"
      },
      "source": [
        "print(4+2*10)\n",
        "print((4+2)*10)"
      ],
      "execution_count": null,
      "outputs": [
        {
          "output_type": "stream",
          "text": [
            "24\n",
            "60\n"
          ],
          "name": "stdout"
        }
      ]
    },
    {
      "cell_type": "markdown",
      "metadata": {
        "id": "p1Mwr7X7vPi7",
        "colab_type": "text"
      },
      "source": [
        "Looking at the code example above, we can deduce from the first operation (4 + 2 * 10) and its corresponding result (24) that multiplication precedes addition. However, for the second operation ((4 + 2) * 10), the addition is calculated first because this time it's surrounded by parentheses. Consequently, the result is 60.\n",
        "\n",
        "So far we've used space characters between numbers and operators (+, -, *, /, ** are operators). For instance, we've used 4 + 5 instead of 4+5. But Python's syntax rules do not enforce this, so both 4 + 5 and 4+5 will run correctly. However, we encourage you to use spaces in your own code as this helps with readability."
      ]
    },
    {
      "cell_type": "code",
      "metadata": {
        "id": "G0ufpoHhvXVS",
        "colab_type": "code",
        "colab": {
          "base_uri": "https://localhost:8080/",
          "height": 68
        },
        "outputId": "e3691c6d-79fe-481f-bb15-f5e47f9a4acd"
      },
      "source": [
        "print(16*10)\n",
        "print(48/5)\n",
        "print(5**3)"
      ],
      "execution_count": null,
      "outputs": [
        {
          "output_type": "stream",
          "text": [
            "160\n",
            "9.6\n",
            "125\n"
          ],
          "name": "stdout"
        }
      ]
    },
    {
      "cell_type": "markdown",
      "metadata": {
        "id": "tpTHJN-tviu-",
        "colab_type": "text"
      },
      "source": [
        "At Dataquest, each course is composed of missions, and this screen marks the end of the first mission. Congratulations!\n",
        "\n",
        "So far, we've focused on learning how to successfully run simple computer programs in Python. In the next mission, we'll use this fundamental knowledge to learn more about programming and data science:\n",
        "\n",
        "We'll learn how to save our data using variables.\n",
        "We'll learn how to work better with numerical data.\n",
        "We'll learn how to work with text data.\n",
        "\n",
        "Let's say we want to save the result of an arithmetical operation for later work. For instance, (8 + 2) * 2 equals 20, and we want to save 20. This is the code we need to run to save 20. If we print the name result, the output is 20:\n",
        "\n",
        "\n",
        "\n"
      ]
    },
    {
      "cell_type": "code",
      "metadata": {
        "id": "H-93W3EJ2KYP",
        "colab_type": "code",
        "colab": {
          "base_uri": "https://localhost:8080/",
          "height": 34
        },
        "outputId": "852797a4-37af-47f1-d157-b0a313f30498"
      },
      "source": [
        "result = 20\n",
        "print(result)"
      ],
      "execution_count": null,
      "outputs": [
        {
          "output_type": "stream",
          "text": [
            "20\n"
          ],
          "name": "stdout"
        }
      ]
    },
    {
      "cell_type": "markdown",
      "metadata": {
        "id": "GZJa4mCT22Az",
        "colab_type": "text"
      },
      "source": [
        "We can also save directly (8 + 2) * 2 instead of saving 20.\n",
        "Notice, however, that print(result) outputs 20, not (8 + 2) * 2. This is because the computer first calculates (8 + 2) * 2 and then saves the result 20 to result.\n"
      ]
    },
    {
      "cell_type": "code",
      "metadata": {
        "id": "tjZBa2Io22n6",
        "colab_type": "code",
        "colab": {
          "base_uri": "https://localhost:8080/",
          "height": 34
        },
        "outputId": "8db11ace-c513-48fe-f20d-8b62cd30a8ba"
      },
      "source": [
        "result=(8 + 2) * 2 \n",
        "print(result)\n",
        "\n"
      ],
      "execution_count": null,
      "outputs": [
        {
          "output_type": "stream",
          "text": [
            "20\n"
          ],
          "name": "stdout"
        }
      ]
    },
    {
      "cell_type": "code",
      "metadata": {
        "id": "j0ykHKuB3HR6",
        "colab_type": "code",
        "colab": {
          "base_uri": "https://localhost:8080/",
          "height": 34
        },
        "outputId": "d46d2969-492e-4eb3-9c46-7ac853361e21"
      },
      "source": [
        "#Now let's do a quick exercise and resume this discussion in the next screen.\n",
        "result = ((42 - 11) * 22)\n",
        "print(result)"
      ],
      "execution_count": null,
      "outputs": [
        {
          "output_type": "stream",
          "text": [
            "682\n"
          ],
          "name": "stdout"
        }
      ]
    },
    {
      "cell_type": "markdown",
      "metadata": {
        "id": "6T9qWP-L3QAU",
        "colab_type": "text"
      },
      "source": [
        "When we run the code result = 20, the value 20 is saved in the computer memory. The computer memory has many storage locations, and 20 is saved to one particular location.\n",
        "\n",
        "![alt text](https://s3.amazonaws.com/dq-content/311/py1m1_memory.svg)\n",
        "\n",
        "The storage location to which we saved 20 has a unique identifier, and we can use it to access 20. The identifier is named result, and we named it that way when we ran the code result = 20. We can use the identifier result to access 20 in other lines of code:"
      ]
    },
    {
      "cell_type": "code",
      "metadata": {
        "id": "p3i_ziqv3iA2",
        "colab_type": "code",
        "colab": {
          "base_uri": "https://localhost:8080/",
          "height": 51
        },
        "outputId": "1be9405c-6f35-4ab3-c1fc-82b2118436be"
      },
      "source": [
        "result = 20\n",
        "print(result)\n",
        "print(result+10)"
      ],
      "execution_count": null,
      "outputs": [
        {
          "output_type": "stream",
          "text": [
            "20\n",
            "30\n"
          ],
          "name": "stdout"
        }
      ]
    },
    {
      "cell_type": "markdown",
      "metadata": {
        "id": "7SEBhPAL3qxW",
        "colab_type": "text"
      },
      "source": [
        "The storage location for 20 is more commonly known as a variable. When we ran the code result = 20, we stored 20 in a variable (storage location) named result — so result is a variable name.\n",
        "\n",
        "Note that we need to write the variable name to the left of the = operator and the value we want to store to the right. So if we want to store the value 20 to a variable named result, we must write result = 20, not 20 = result.\n",
        "\n",
        "We chose the name result arbitrarily, but we could have chosen something different:\n",
        "\n"
      ]
    },
    {
      "cell_type": "code",
      "metadata": {
        "id": "lG-mx5tf3zCB",
        "colab_type": "code",
        "colab": {
          "base_uri": "https://localhost:8080/",
          "height": 51
        },
        "outputId": "94188dc5-9e51-4309-907e-77c3585e2022"
      },
      "source": [
        "another_name = 20\n",
        "print(another_name)\n",
        "print(another_name + 10)"
      ],
      "execution_count": null,
      "outputs": [
        {
          "output_type": "stream",
          "text": [
            "20\n",
            "30\n"
          ],
          "name": "stdout"
        }
      ]
    },
    {
      "cell_type": "markdown",
      "metadata": {
        "id": "YvV3rLDG4WtF",
        "colab_type": "text"
      },
      "source": [
        "Now let's get more practice with variables.\n",
        "\n"
      ]
    },
    {
      "cell_type": "code",
      "metadata": {
        "id": "yLwZ_3EB4Xry",
        "colab_type": "code",
        "colab": {
          "base_uri": "https://localhost:8080/",
          "height": 68
        },
        "outputId": "3cc8a5ec-3ee3-47aa-f7fb-68864ae53e07"
      },
      "source": [
        "a_value = 15\n",
        "a_result = (25 - 7) * 17\n",
        "print(a_value)\n",
        "print(a_result+12)\n",
        "print(a_value + a_result)"
      ],
      "execution_count": null,
      "outputs": [
        {
          "output_type": "stream",
          "text": [
            "15\n",
            "318\n",
            "321\n"
          ],
          "name": "stdout"
        }
      ]
    },
    {
      "cell_type": "markdown",
      "metadata": {
        "id": "zPhrm7wM7gOZ",
        "colab_type": "text"
      },
      "source": [
        "In the last screen, we learned that we can choose different names for variables. However, the names we can use must comply with a number of syntax rules. For instance, naming a variable a result will output a syntax error because we're not allowed to use space characters in variable names."
      ]
    },
    {
      "cell_type": "code",
      "metadata": {
        "id": "EndfhAow7oka",
        "colab_type": "code",
        "colab": {
          "base_uri": "https://localhost:8080/",
          "height": 130
        },
        "outputId": "a17929f8-2e22-4bbf-e726-d42995438499"
      },
      "source": [
        "a result = 20"
      ],
      "execution_count": null,
      "outputs": [
        {
          "output_type": "error",
          "ename": "SyntaxError",
          "evalue": "ignored",
          "traceback": [
            "\u001b[0;36m  File \u001b[0;32m\"<ipython-input-26-1435c92e22df>\"\u001b[0;36m, line \u001b[0;32m1\u001b[0m\n\u001b[0;31m    a result = 20\u001b[0m\n\u001b[0m           ^\u001b[0m\n\u001b[0;31mSyntaxError\u001b[0m\u001b[0;31m:\u001b[0m invalid syntax\n"
          ]
        }
      ]
    },
    {
      "cell_type": "markdown",
      "metadata": {
        "id": "uyXB1BN57sNn",
        "colab_type": "text"
      },
      "source": [
        "These are the two syntax rules we need to be aware of when we're naming variables:\n",
        "\n",
        "We must use only letters, numbers, or underscores (we can't use apostrophes, hyphens, whitespace characters, etc.).\n",
        "Variable names cannot start with a number.\n",
        "\n",
        "![alt text](https://s3.amazonaws.com/dq-content/311/py1m1_variable_naming.svg)\n",
        "\n",
        "Note that variable names are case sensitive, which means that a variable named result is different than a variable named Result:"
      ]
    },
    {
      "cell_type": "code",
      "metadata": {
        "id": "8yd1-5r27-2B",
        "colab_type": "code",
        "colab": {
          "base_uri": "https://localhost:8080/",
          "height": 51
        },
        "outputId": "a914181d-c4ce-4038-ae32-318e87273fb5"
      },
      "source": [
        "result = 20\n",
        "Result = 30\n",
        "print(result)\n",
        "print(Result)"
      ],
      "execution_count": null,
      "outputs": [
        {
          "output_type": "stream",
          "text": [
            "20\n",
            "30\n"
          ],
          "name": "stdout"
        }
      ]
    },
    {
      "cell_type": "markdown",
      "metadata": {
        "id": "dlqcYGsL8RsH",
        "colab_type": "text"
      },
      "source": [
        "The value stored in a variable can be updated. Below, we first store 30 in the variable x, and then we update x to store 70 instead."
      ]
    },
    {
      "cell_type": "code",
      "metadata": {
        "id": "lGmRKn9-8WqL",
        "colab_type": "code",
        "colab": {
          "base_uri": "https://localhost:8080/",
          "height": 51
        },
        "outputId": "e3e0e8ba-3de1-45dc-ed1a-9e1e869af87c"
      },
      "source": [
        "x = 70\n",
        "print(x)\n",
        "\n",
        "x = 30\n",
        "print(x)"
      ],
      "execution_count": null,
      "outputs": [
        {
          "output_type": "stream",
          "text": [
            "70\n",
            "30\n"
          ],
          "name": "stdout"
        }
      ]
    },
    {
      "cell_type": "markdown",
      "metadata": {
        "id": "wz73Sdfe8lSi",
        "colab_type": "text"
      },
      "source": [
        "We can also update a variable by doing arithmetical operations:\n",
        "\n"
      ]
    },
    {
      "cell_type": "code",
      "metadata": {
        "id": "L2NjG4yW8m9w",
        "colab_type": "code",
        "colab": {
          "base_uri": "https://localhost:8080/",
          "height": 68
        },
        "outputId": "dac7dbd2-d310-4f95-a9df-5aa988faa101"
      },
      "source": [
        "x = 30\n",
        "print(x)\n",
        "print(x + 70)\n",
        "\n",
        "x = x + 70\n",
        "print(x)\n"
      ],
      "execution_count": null,
      "outputs": [
        {
          "output_type": "stream",
          "text": [
            "30\n",
            "100\n",
            "100\n"
          ],
          "name": "stdout"
        }
      ]
    },
    {
      "cell_type": "markdown",
      "metadata": {
        "id": "K5Z5KdYo9AJs",
        "colab_type": "text"
      },
      "source": [
        "Notice in the code above that:\n",
        "\n",
        "The variable x initially stores a value of 30.\n",
        "x + 70 evaluates to 100 because x stores a value of 30 — so x + 70 becomes 30 + 70.\n",
        "When we run x = x + 70, x is updated to store the result of x + 70, which is 100. Running x = x + 70 is the same as running x = 30 + 70 because x stores 30.\n",
        "print(x) outputs 100 after we run x = x + 70.\n",
        "\n",
        "There are several syntax shortcuts we can use to update a variable when we're doing arithmetical operations. In the code above, for instance, we can write x += 70 instead of x = x + 70:"
      ]
    },
    {
      "cell_type": "code",
      "metadata": {
        "id": "eOzvSsZH9eVd",
        "colab_type": "code",
        "colab": {
          "base_uri": "https://localhost:8080/",
          "height": 34
        },
        "outputId": "e0249276-559f-45ef-ef16-d124b9277155"
      },
      "source": [
        "x = 30\n",
        "x += 70\n",
        "print(x)"
      ],
      "execution_count": null,
      "outputs": [
        {
          "output_type": "stream",
          "text": [
            "100\n"
          ],
          "name": "stdout"
        }
      ]
    },
    {
      "cell_type": "markdown",
      "metadata": {
        "id": "8qRq9tLR9m_5",
        "colab_type": "text"
      },
      "source": [
        "Below is a table with some syntax shortcuts we can use:\n",
        "\n",
        "\n",
        "![alt text](https://s3.amazonaws.com/dq-content/311/py1m1_update.svg)\n",
        "\n",
        "Notice that these operators (+=, -=, *=, /=, **=) can only be used to update a variable. This means the variable being updated must already store a value. In other words, the variable must already be defined. When we try to update a variable that we haven't defined, we get an error called NameError.\n",
        "\n",
        "![alt text](https://s3.amazonaws.com/dq-content/311/py1m1_cb17.svg)\n",
        "\n",
        "This kind of error is different from the syntax error we learned about in the first mission. y += 10 is correct Python syntax, but the computer returns an error because it can't update a variable that hasn't been yet defined. Whenever the syntax is correct but the computer still returns an error for one reason or another, it's called a runtime error.\n",
        "\n",
        "Notice also that we updated a variable using x = x + 1. In mathematics, x = x + 1 would be a false statement because x can never be equal to x + 1. This tells us that the = operator doesn't have the same meaning as it does in mathematics.\n",
        "\n",
        "In Python, the = operator tells us that the value on the right is assigned to the variable on the left. It doesn't tell us anything about equality. We call = an assignment operator, and we read code like x = 5 as \"five is assigned to x\" or \"x is assigned five,\" but not \"x equals five.\""
      ]
    },
    {
      "cell_type": "code",
      "metadata": {
        "id": "G5sUuSVz-WT5",
        "colab_type": "code",
        "colab": {
          "base_uri": "https://localhost:8080/",
          "height": 51
        },
        "outputId": "c38f1df0-2e63-49b3-d6fa-9dc7d8a89d88"
      },
      "source": [
        "variable_1 = 20\n",
        "variable_2 = 20\n",
        "\n",
        "variable_2 += 10\n",
        "variable_1 *= 4\n",
        "print(variable_1)\n",
        "print(variable_2)"
      ],
      "execution_count": null,
      "outputs": [
        {
          "output_type": "stream",
          "text": [
            "80\n",
            "30\n"
          ],
          "name": "stdout"
        }
      ]
    },
    {
      "cell_type": "markdown",
      "metadata": {
        "id": "Gku6d0_-_Qdx",
        "colab_type": "text"
      },
      "source": [
        "So far, we only worked with [integers](https://www.mathsisfun.com/definitions/integer.html) like 20, -3, 30, etc. We can also make computations with decimal numbers:\n"
      ]
    },
    {
      "cell_type": "code",
      "metadata": {
        "id": "drd0IzCA9nkG",
        "colab_type": "code",
        "colab": {
          "base_uri": "https://localhost:8080/",
          "height": 51
        },
        "outputId": "806b133d-917d-484a-b258-6897b5007c1b"
      },
      "source": [
        "print(8.4 + 1.5)\n",
        "print(-0.2 + 1.3)"
      ],
      "execution_count": null,
      "outputs": [
        {
          "output_type": "stream",
          "text": [
            "9.9\n",
            "1.1\n"
          ],
          "name": "stdout"
        }
      ]
    },
    {
      "cell_type": "markdown",
      "metadata": {
        "id": "pWEvnFE-_yFZ",
        "colab_type": "text"
      },
      "source": [
        "In mathematics, integers are not the same as decimal numbers, and Python acknowledges this difference. We can use the type() command to see the type of a value, and confirm that Python distinguishes between integers and decimal numbers:\n",
        "\n",
        "![alt text](https://s3.amazonaws.com/dq-content/311/py1m1_cb19.svg)\n",
        "\n",
        "Notice that the integer 2 has the int type, and the decimal number 8.5 has the float type. All integers have the int type, and all decimal numbers have the float type.\n",
        "\n",
        "In computer programming, values are classified into different types, or data types. The type of value offers the computer the required information about the way that value should be handled. Depending on the type, the computer will know how to store a value in memory, or what operations can and can't be performed on a value.\n",
        "\n",
        "int and float values have different types, but we can mix the values together in arithmetical operations. So we're not limited, for instance, to add an int value only to another int value — we can add an int value to a float value:"
      ]
    },
    {
      "cell_type": "code",
      "metadata": {
        "id": "jo8RseJbAGvc",
        "colab_type": "code",
        "colab": {
          "base_uri": "https://localhost:8080/",
          "height": 51
        },
        "outputId": "8f22bcd2-75f3-4093-9232-fe8f19c4c13b"
      },
      "source": [
        "print(3 + 2.5)\n",
        "print(2.5 * 4)"
      ],
      "execution_count": null,
      "outputs": [
        {
          "output_type": "stream",
          "text": [
            "5.5\n",
            "10.0\n"
          ],
          "name": "stdout"
        }
      ]
    },
    {
      "cell_type": "code",
      "metadata": {
        "id": "ivLtD2e2ASPI",
        "colab_type": "code",
        "colab": {
          "base_uri": "https://localhost:8080/",
          "height": 51
        },
        "outputId": "1658a262-39a9-4836-d348-d3e786ace816"
      },
      "source": [
        "variable_1 = 10\n",
        "variable_2 = 2.5\n",
        "\n",
        "variable_1 += 6.5\n",
        "variable_2 *= 2\n",
        "\n",
        "print(variable_1)\n",
        "print(variable_2)"
      ],
      "execution_count": null,
      "outputs": [
        {
          "output_type": "stream",
          "text": [
            "16.5\n",
            "5.0\n"
          ],
          "name": "stdout"
        }
      ]
    },
    {
      "cell_type": "markdown",
      "metadata": {
        "id": "Eg1xkKfvAUQ4",
        "colab_type": "text"
      },
      "source": [
        "It's possible to convert a float to an integer and vice versa. To convert an integer to a float, we can use the float() command. To convert a float to an integer, we can use the int() command:\n",
        "\n",
        "![alt text](https://s3.amazonaws.com/dq-content/311/py1m1_cb21.svg)\n",
        "\n",
        "Notice the int() command rounded 4.3 down to 4. int() will always round a float down, even if the number after the decimal point is greater than five.\n",
        "\n"
      ]
    },
    {
      "cell_type": "code",
      "metadata": {
        "id": "wQRDjmGRA6-k",
        "colab_type": "code",
        "colab": {
          "base_uri": "https://localhost:8080/",
          "height": 34
        },
        "outputId": "c96c4528-f042-4d96-9785-281d72615a3f"
      },
      "source": [
        "int(4.99)"
      ],
      "execution_count": null,
      "outputs": [
        {
          "output_type": "execute_result",
          "data": {
            "text/plain": [
              "4"
            ]
          },
          "metadata": {
            "tags": []
          },
          "execution_count": 37
        }
      ]
    },
    {
      "cell_type": "markdown",
      "metadata": {
        "id": "-0R0bsaCBCyN",
        "colab_type": "text"
      },
      "source": [
        "If we want to round off a number, we can instead use the round() command, which has more flexibility and can also round up:\n",
        "![alt text](https://s3.amazonaws.com/dq-content/311/py1m1_cb23.svg)\n",
        "\n",
        "Note that it's possible to combine commands. For instance, we can encompass a round() command within a print() command. This is useful in some cases — if we wrote three round() commands one after another, only the output of the last one would be displayed:\n",
        "\n",
        "![alt text](https://s3.amazonaws.com/dq-content/311/py1m1_cb24.svg)\n",
        "\n",
        "Note that running the round() command doesn't change the value stored by a variable unless we assign the rounded value back to the variable:"
      ]
    },
    {
      "cell_type": "code",
      "metadata": {
        "id": "B2owyZnaknrM",
        "colab_type": "code",
        "colab": {
          "base_uri": "https://localhost:8080/",
          "height": 68
        },
        "outputId": "1f721773-f51a-4a43-86f2-bc3cf9a216d7"
      },
      "source": [
        "a_value = 3.7\n",
        "print(round(a_value))\n",
        "print(a_value)\n",
        "\n",
        "a_value = (round(a_value))\n",
        "print(a_value)"
      ],
      "execution_count": null,
      "outputs": [
        {
          "output_type": "stream",
          "text": [
            "4\n",
            "3.7\n",
            "4\n"
          ],
          "name": "stdout"
        }
      ]
    },
    {
      "cell_type": "code",
      "metadata": {
        "id": "i2XfcYbLCNco",
        "colab_type": "code",
        "colab": {
          "base_uri": "https://localhost:8080/",
          "height": 51
        },
        "outputId": "56056ab6-85a9-416f-aa71-3e3813e2044f"
      },
      "source": [
        "variable_a = 13.9\n",
        "variable_b = 2.8\n",
        "\n",
        "variable_a = round(variable_a)\n",
        "variable_b = int(variable_b)\n",
        "print(variable_a)\n",
        "print(variable_b)"
      ],
      "execution_count": null,
      "outputs": [
        {
          "output_type": "stream",
          "text": [
            "14\n",
            "2\n"
          ],
          "name": "stdout"
        }
      ]
    },
    {
      "cell_type": "markdown",
      "metadata": {
        "id": "dOnNWlrLlL5m",
        "colab_type": "text"
      },
      "source": [
        "So far, we've only dealt with int and float values. But in data science, numbers are not the only type of data we work with. For instance, consider the table below, which provides some information about five mobile applications from the iOS store:\n",
        "\n",
        "Data source:[Mobile App Store data set (Ramanathan Perumal)](https://www.kaggle.com/ramamet4/app-store-apple-data-set-10k-apps)\n",
        "\n",
        "[Tabla de datos](https://drive.google.com/file/d/1Knz47r7mVqHgaJ2Hu7DJ2dlW4q1i4Vfi/view?usp=sharing)\n",
        "\n"
      ]
    },
    {
      "cell_type": "code",
      "metadata": {
        "id": "NZOtoICgt90T",
        "colab_type": "code",
        "colab": {
          "base_uri": "https://localhost:8080/",
          "height": 428
        },
        "outputId": "46a28499-960f-4411-80c6-ba015cfdf103"
      },
      "source": [
        "import pandas as pd\n",
        "df = pd.read_csv(\"https://docs.google.com/spreadsheets/d/17b-4W9nUqh0QeNDLfGPFXhlKvCru46MXFIx46Jyebfo/export?format=csv&gid=0\")\n",
        "df.head()\n"
      ],
      "execution_count": null,
      "outputs": [
        {
          "output_type": "execute_result",
          "data": {
            "text/html": [
              "<div>\n",
              "<style scoped>\n",
              "    .dataframe tbody tr th:only-of-type {\n",
              "        vertical-align: middle;\n",
              "    }\n",
              "\n",
              "    .dataframe tbody tr th {\n",
              "        vertical-align: top;\n",
              "    }\n",
              "\n",
              "    .dataframe thead th {\n",
              "        text-align: right;\n",
              "    }\n",
              "</style>\n",
              "<table border=\"1\" class=\"dataframe\">\n",
              "  <thead>\n",
              "    <tr style=\"text-align: right;\">\n",
              "      <th></th>\n",
              "      <th>Unnamed: 0</th>\n",
              "      <th>id</th>\n",
              "      <th>track_name</th>\n",
              "      <th>size_bytes</th>\n",
              "      <th>currency</th>\n",
              "      <th>price</th>\n",
              "      <th>rating_count_tot</th>\n",
              "      <th>rating_count_ver</th>\n",
              "      <th>user_rating</th>\n",
              "      <th>user_rating_ver</th>\n",
              "      <th>ver</th>\n",
              "      <th>cont_rating</th>\n",
              "      <th>prime_genre</th>\n",
              "      <th>sup_devices.num</th>\n",
              "      <th>ipadSc_urls.num</th>\n",
              "      <th>lang.num</th>\n",
              "      <th>vpp_lic</th>\n",
              "    </tr>\n",
              "  </thead>\n",
              "  <tbody>\n",
              "    <tr>\n",
              "      <th>0</th>\n",
              "      <td>1</td>\n",
              "      <td>281656475</td>\n",
              "      <td>PAC-MAN Premium</td>\n",
              "      <td>100788224</td>\n",
              "      <td>USD</td>\n",
              "      <td>3.99</td>\n",
              "      <td>21292</td>\n",
              "      <td>26</td>\n",
              "      <td>4.0</td>\n",
              "      <td>4.5</td>\n",
              "      <td>6.3.5</td>\n",
              "      <td>4+</td>\n",
              "      <td>Games</td>\n",
              "      <td>38</td>\n",
              "      <td>5</td>\n",
              "      <td>10</td>\n",
              "      <td>1</td>\n",
              "    </tr>\n",
              "    <tr>\n",
              "      <th>1</th>\n",
              "      <td>2</td>\n",
              "      <td>281796108</td>\n",
              "      <td>Evernote - stay organized</td>\n",
              "      <td>158578688</td>\n",
              "      <td>USD</td>\n",
              "      <td>0.00</td>\n",
              "      <td>161065</td>\n",
              "      <td>26</td>\n",
              "      <td>4.0</td>\n",
              "      <td>3.5</td>\n",
              "      <td>8.2.2</td>\n",
              "      <td>4+</td>\n",
              "      <td>Productivity</td>\n",
              "      <td>37</td>\n",
              "      <td>5</td>\n",
              "      <td>23</td>\n",
              "      <td>1</td>\n",
              "    </tr>\n",
              "    <tr>\n",
              "      <th>2</th>\n",
              "      <td>3</td>\n",
              "      <td>281940292</td>\n",
              "      <td>WeatherBug - Local Weather, Radar, Maps, Alerts</td>\n",
              "      <td>100524032</td>\n",
              "      <td>USD</td>\n",
              "      <td>0.00</td>\n",
              "      <td>188583</td>\n",
              "      <td>2822</td>\n",
              "      <td>3.5</td>\n",
              "      <td>4.5</td>\n",
              "      <td>5.0.0</td>\n",
              "      <td>4+</td>\n",
              "      <td>Weather</td>\n",
              "      <td>37</td>\n",
              "      <td>5</td>\n",
              "      <td>3</td>\n",
              "      <td>1</td>\n",
              "    </tr>\n",
              "    <tr>\n",
              "      <th>3</th>\n",
              "      <td>4</td>\n",
              "      <td>282614216</td>\n",
              "      <td>eBay: Best App to Buy, Sell, Save! Online Shop...</td>\n",
              "      <td>128512000</td>\n",
              "      <td>USD</td>\n",
              "      <td>0.00</td>\n",
              "      <td>262241</td>\n",
              "      <td>649</td>\n",
              "      <td>4.0</td>\n",
              "      <td>4.5</td>\n",
              "      <td>5.10.0</td>\n",
              "      <td>12+</td>\n",
              "      <td>Shopping</td>\n",
              "      <td>37</td>\n",
              "      <td>5</td>\n",
              "      <td>9</td>\n",
              "      <td>1</td>\n",
              "    </tr>\n",
              "    <tr>\n",
              "      <th>4</th>\n",
              "      <td>5</td>\n",
              "      <td>282935706</td>\n",
              "      <td>Bible</td>\n",
              "      <td>92774400</td>\n",
              "      <td>USD</td>\n",
              "      <td>0.00</td>\n",
              "      <td>985920</td>\n",
              "      <td>5320</td>\n",
              "      <td>4.5</td>\n",
              "      <td>5.0</td>\n",
              "      <td>7.5.1</td>\n",
              "      <td>4+</td>\n",
              "      <td>Reference</td>\n",
              "      <td>37</td>\n",
              "      <td>5</td>\n",
              "      <td>45</td>\n",
              "      <td>1</td>\n",
              "    </tr>\n",
              "  </tbody>\n",
              "</table>\n",
              "</div>"
            ],
            "text/plain": [
              "   Unnamed: 0         id  ... lang.num  vpp_lic\n",
              "0           1  281656475  ...       10        1\n",
              "1           2  281796108  ...       23        1\n",
              "2           3  281940292  ...        3        1\n",
              "3           4  282614216  ...        9        1\n",
              "4           5  282935706  ...       45        1\n",
              "\n",
              "[5 rows x 17 columns]"
            ]
          },
          "metadata": {
            "tags": []
          },
          "execution_count": 19
        }
      ]
    },
    {
      "cell_type": "markdown",
      "metadata": {
        "id": "XSt-XV6BuDJH",
        "colab_type": "text"
      },
      "source": [
        "We can see the data in columns track_name and currency are represented using text, not numbers. In Python, we can create text by enclosing a sequence of characters within quotation marks (\" \"):\n"
      ]
    },
    {
      "cell_type": "code",
      "metadata": {
        "id": "Yc4TDZr9uL6V",
        "colab_type": "code",
        "colab": {
          "base_uri": "https://localhost:8080/",
          "height": 34
        },
        "outputId": "51d66d14-0cc0-460d-e716-e732f37758b6"
      },
      "source": [
        "app_name = \"Facebook\"\n",
        "currency = \"USD\"\n",
        "print(app_name)"
      ],
      "execution_count": null,
      "outputs": [
        {
          "output_type": "stream",
          "text": [
            "Facebook\n"
          ],
          "name": "stdout"
        }
      ]
    },
    {
      "cell_type": "code",
      "metadata": {
        "id": "zLc4OyUr2OQ9",
        "colab_type": "code",
        "colab": {
          "base_uri": "https://localhost:8080/",
          "height": 255
        },
        "outputId": "4caab706-2c7f-4cef-b2af-52ba4e70b7dc"
      },
      "source": [
        "import pandas as pd\n",
        "appdata_df = pd.read_csv(\"https://docs.google.com/spreadsheets/d/17b-4W9nUqh0QeNDLfGPFXhlKvCru46MXFIx46Jyebfo/export?format=csv&gid=0\")\n",
        "print(appdata_df)"
      ],
      "execution_count": null,
      "outputs": [
        {
          "output_type": "stream",
          "text": [
            "      Unnamed: 0          id  ... lang.num  vpp_lic\n",
            "0              1   281656475  ...       10        1\n",
            "1              2   281796108  ...       23        1\n",
            "2              3   281940292  ...        3        1\n",
            "3              4   282614216  ...        9        1\n",
            "4              5   282935706  ...       45        1\n",
            "...          ...         ...  ...      ...      ...\n",
            "7192       11081  1187617475  ...        1        1\n",
            "7193       11082  1187682390  ...        1        1\n",
            "7194       11087  1187779532  ...        1        1\n",
            "7195       11089  1187838770  ...        2        1\n",
            "7196       11097  1188375727  ...        2        1\n",
            "\n",
            "[7197 rows x 17 columns]\n"
          ],
          "name": "stdout"
        }
      ]
    },
    {
      "cell_type": "code",
      "metadata": {
        "id": "JM7ok4lH3VcG",
        "colab_type": "code",
        "colab": {
          "base_uri": "https://localhost:8080/",
          "height": 428
        },
        "outputId": "59f652ba-8a15-41ba-99a8-f344e0d46c70"
      },
      "source": [
        "appdata_df.head() #I need more information about this ¿How working?"
      ],
      "execution_count": null,
      "outputs": [
        {
          "output_type": "execute_result",
          "data": {
            "text/html": [
              "<div>\n",
              "<style scoped>\n",
              "    .dataframe tbody tr th:only-of-type {\n",
              "        vertical-align: middle;\n",
              "    }\n",
              "\n",
              "    .dataframe tbody tr th {\n",
              "        vertical-align: top;\n",
              "    }\n",
              "\n",
              "    .dataframe thead th {\n",
              "        text-align: right;\n",
              "    }\n",
              "</style>\n",
              "<table border=\"1\" class=\"dataframe\">\n",
              "  <thead>\n",
              "    <tr style=\"text-align: right;\">\n",
              "      <th></th>\n",
              "      <th>Unnamed: 0</th>\n",
              "      <th>id</th>\n",
              "      <th>track_name</th>\n",
              "      <th>size_bytes</th>\n",
              "      <th>currency</th>\n",
              "      <th>price</th>\n",
              "      <th>rating_count_tot</th>\n",
              "      <th>rating_count_ver</th>\n",
              "      <th>user_rating</th>\n",
              "      <th>user_rating_ver</th>\n",
              "      <th>ver</th>\n",
              "      <th>cont_rating</th>\n",
              "      <th>prime_genre</th>\n",
              "      <th>sup_devices.num</th>\n",
              "      <th>ipadSc_urls.num</th>\n",
              "      <th>lang.num</th>\n",
              "      <th>vpp_lic</th>\n",
              "    </tr>\n",
              "  </thead>\n",
              "  <tbody>\n",
              "    <tr>\n",
              "      <th>0</th>\n",
              "      <td>1</td>\n",
              "      <td>281656475</td>\n",
              "      <td>PAC-MAN Premium</td>\n",
              "      <td>100788224</td>\n",
              "      <td>USD</td>\n",
              "      <td>3.99</td>\n",
              "      <td>21292</td>\n",
              "      <td>26</td>\n",
              "      <td>4.0</td>\n",
              "      <td>4.5</td>\n",
              "      <td>6.3.5</td>\n",
              "      <td>4+</td>\n",
              "      <td>Games</td>\n",
              "      <td>38</td>\n",
              "      <td>5</td>\n",
              "      <td>10</td>\n",
              "      <td>1</td>\n",
              "    </tr>\n",
              "    <tr>\n",
              "      <th>1</th>\n",
              "      <td>2</td>\n",
              "      <td>281796108</td>\n",
              "      <td>Evernote - stay organized</td>\n",
              "      <td>158578688</td>\n",
              "      <td>USD</td>\n",
              "      <td>0.00</td>\n",
              "      <td>161065</td>\n",
              "      <td>26</td>\n",
              "      <td>4.0</td>\n",
              "      <td>3.5</td>\n",
              "      <td>8.2.2</td>\n",
              "      <td>4+</td>\n",
              "      <td>Productivity</td>\n",
              "      <td>37</td>\n",
              "      <td>5</td>\n",
              "      <td>23</td>\n",
              "      <td>1</td>\n",
              "    </tr>\n",
              "    <tr>\n",
              "      <th>2</th>\n",
              "      <td>3</td>\n",
              "      <td>281940292</td>\n",
              "      <td>WeatherBug - Local Weather, Radar, Maps, Alerts</td>\n",
              "      <td>100524032</td>\n",
              "      <td>USD</td>\n",
              "      <td>0.00</td>\n",
              "      <td>188583</td>\n",
              "      <td>2822</td>\n",
              "      <td>3.5</td>\n",
              "      <td>4.5</td>\n",
              "      <td>5.0.0</td>\n",
              "      <td>4+</td>\n",
              "      <td>Weather</td>\n",
              "      <td>37</td>\n",
              "      <td>5</td>\n",
              "      <td>3</td>\n",
              "      <td>1</td>\n",
              "    </tr>\n",
              "    <tr>\n",
              "      <th>3</th>\n",
              "      <td>4</td>\n",
              "      <td>282614216</td>\n",
              "      <td>eBay: Best App to Buy, Sell, Save! Online Shop...</td>\n",
              "      <td>128512000</td>\n",
              "      <td>USD</td>\n",
              "      <td>0.00</td>\n",
              "      <td>262241</td>\n",
              "      <td>649</td>\n",
              "      <td>4.0</td>\n",
              "      <td>4.5</td>\n",
              "      <td>5.10.0</td>\n",
              "      <td>12+</td>\n",
              "      <td>Shopping</td>\n",
              "      <td>37</td>\n",
              "      <td>5</td>\n",
              "      <td>9</td>\n",
              "      <td>1</td>\n",
              "    </tr>\n",
              "    <tr>\n",
              "      <th>4</th>\n",
              "      <td>5</td>\n",
              "      <td>282935706</td>\n",
              "      <td>Bible</td>\n",
              "      <td>92774400</td>\n",
              "      <td>USD</td>\n",
              "      <td>0.00</td>\n",
              "      <td>985920</td>\n",
              "      <td>5320</td>\n",
              "      <td>4.5</td>\n",
              "      <td>5.0</td>\n",
              "      <td>7.5.1</td>\n",
              "      <td>4+</td>\n",
              "      <td>Reference</td>\n",
              "      <td>37</td>\n",
              "      <td>5</td>\n",
              "      <td>45</td>\n",
              "      <td>1</td>\n",
              "    </tr>\n",
              "  </tbody>\n",
              "</table>\n",
              "</div>"
            ],
            "text/plain": [
              "   Unnamed: 0         id  ... lang.num  vpp_lic\n",
              "0           1  281656475  ...       10        1\n",
              "1           2  281796108  ...       23        1\n",
              "2           3  281940292  ...        3        1\n",
              "3           4  282614216  ...        9        1\n",
              "4           5  282935706  ...       45        1\n",
              "\n",
              "[5 rows x 17 columns]"
            ]
          },
          "metadata": {
            "tags": []
          },
          "execution_count": 30
        }
      ]
    },
    {
      "cell_type": "code",
      "metadata": {
        "id": "XQ3QxY2v4FH3",
        "colab_type": "code",
        "colab": {
          "base_uri": "https://localhost:8080/",
          "height": 238
        },
        "outputId": "b9f79359-2230-49be-9fc1-4e71bdc16364"
      },
      "source": [
        "table_1=appdata_df[['track_name', 'price', 'currency', 'rating_count_tot', 'user_rating']]\n",
        "table_1.head()"
      ],
      "execution_count": null,
      "outputs": [
        {
          "output_type": "execute_result",
          "data": {
            "text/html": [
              "<div>\n",
              "<style scoped>\n",
              "    .dataframe tbody tr th:only-of-type {\n",
              "        vertical-align: middle;\n",
              "    }\n",
              "\n",
              "    .dataframe tbody tr th {\n",
              "        vertical-align: top;\n",
              "    }\n",
              "\n",
              "    .dataframe thead th {\n",
              "        text-align: right;\n",
              "    }\n",
              "</style>\n",
              "<table border=\"1\" class=\"dataframe\">\n",
              "  <thead>\n",
              "    <tr style=\"text-align: right;\">\n",
              "      <th></th>\n",
              "      <th>track_name</th>\n",
              "      <th>price</th>\n",
              "      <th>currency</th>\n",
              "      <th>rating_count_tot</th>\n",
              "      <th>user_rating</th>\n",
              "    </tr>\n",
              "  </thead>\n",
              "  <tbody>\n",
              "    <tr>\n",
              "      <th>0</th>\n",
              "      <td>PAC-MAN Premium</td>\n",
              "      <td>3.99</td>\n",
              "      <td>USD</td>\n",
              "      <td>21292</td>\n",
              "      <td>4.0</td>\n",
              "    </tr>\n",
              "    <tr>\n",
              "      <th>1</th>\n",
              "      <td>Evernote - stay organized</td>\n",
              "      <td>0.00</td>\n",
              "      <td>USD</td>\n",
              "      <td>161065</td>\n",
              "      <td>4.0</td>\n",
              "    </tr>\n",
              "    <tr>\n",
              "      <th>2</th>\n",
              "      <td>WeatherBug - Local Weather, Radar, Maps, Alerts</td>\n",
              "      <td>0.00</td>\n",
              "      <td>USD</td>\n",
              "      <td>188583</td>\n",
              "      <td>3.5</td>\n",
              "    </tr>\n",
              "    <tr>\n",
              "      <th>3</th>\n",
              "      <td>eBay: Best App to Buy, Sell, Save! Online Shop...</td>\n",
              "      <td>0.00</td>\n",
              "      <td>USD</td>\n",
              "      <td>262241</td>\n",
              "      <td>4.0</td>\n",
              "    </tr>\n",
              "    <tr>\n",
              "      <th>4</th>\n",
              "      <td>Bible</td>\n",
              "      <td>0.00</td>\n",
              "      <td>USD</td>\n",
              "      <td>985920</td>\n",
              "      <td>4.5</td>\n",
              "    </tr>\n",
              "  </tbody>\n",
              "</table>\n",
              "</div>"
            ],
            "text/plain": [
              "                                          track_name  ...  user_rating\n",
              "0                                    PAC-MAN Premium  ...          4.0\n",
              "1                          Evernote - stay organized  ...          4.0\n",
              "2    WeatherBug - Local Weather, Radar, Maps, Alerts  ...          3.5\n",
              "3  eBay: Best App to Buy, Sell, Save! Online Shop...  ...          4.0\n",
              "4                                              Bible  ...          4.5\n",
              "\n",
              "[5 rows x 5 columns]"
            ]
          },
          "metadata": {
            "tags": []
          },
          "execution_count": 13
        }
      ]
    },
    {
      "cell_type": "code",
      "metadata": {
        "id": "HmNWxkWozlnu",
        "colab_type": "code",
        "colab": {
          "base_uri": "https://localhost:8080/",
          "height": 204
        },
        "outputId": "e59f9beb-6c06-4072-f500-936c82ce1b4a"
      },
      "source": [
        "table_2 = table_1.iloc[[16, 519, 1346, 707, 7 ]]\n",
        "table_2.head()"
      ],
      "execution_count": null,
      "outputs": [
        {
          "output_type": "execute_result",
          "data": {
            "text/html": [
              "<div>\n",
              "<style scoped>\n",
              "    .dataframe tbody tr th:only-of-type {\n",
              "        vertical-align: middle;\n",
              "    }\n",
              "\n",
              "    .dataframe tbody tr th {\n",
              "        vertical-align: top;\n",
              "    }\n",
              "\n",
              "    .dataframe thead th {\n",
              "        text-align: right;\n",
              "    }\n",
              "</style>\n",
              "<table border=\"1\" class=\"dataframe\">\n",
              "  <thead>\n",
              "    <tr style=\"text-align: right;\">\n",
              "      <th></th>\n",
              "      <th>track_name</th>\n",
              "      <th>price</th>\n",
              "      <th>currency</th>\n",
              "      <th>rating_count_tot</th>\n",
              "      <th>user_rating</th>\n",
              "    </tr>\n",
              "  </thead>\n",
              "  <tbody>\n",
              "    <tr>\n",
              "      <th>16</th>\n",
              "      <td>Facebook</td>\n",
              "      <td>0.0</td>\n",
              "      <td>USD</td>\n",
              "      <td>2974676</td>\n",
              "      <td>3.5</td>\n",
              "    </tr>\n",
              "    <tr>\n",
              "      <th>519</th>\n",
              "      <td>Instagram</td>\n",
              "      <td>0.0</td>\n",
              "      <td>USD</td>\n",
              "      <td>2161558</td>\n",
              "      <td>4.5</td>\n",
              "    </tr>\n",
              "    <tr>\n",
              "      <th>1346</th>\n",
              "      <td>Clash of Clans</td>\n",
              "      <td>0.0</td>\n",
              "      <td>USD</td>\n",
              "      <td>2130805</td>\n",
              "      <td>4.5</td>\n",
              "    </tr>\n",
              "    <tr>\n",
              "      <th>707</th>\n",
              "      <td>Temple Run</td>\n",
              "      <td>0.0</td>\n",
              "      <td>USD</td>\n",
              "      <td>1724546</td>\n",
              "      <td>4.5</td>\n",
              "    </tr>\n",
              "    <tr>\n",
              "      <th>7</th>\n",
              "      <td>Pandora - Music &amp; Radio</td>\n",
              "      <td>0.0</td>\n",
              "      <td>USD</td>\n",
              "      <td>1126879</td>\n",
              "      <td>4.0</td>\n",
              "    </tr>\n",
              "  </tbody>\n",
              "</table>\n",
              "</div>"
            ],
            "text/plain": [
              "                   track_name  price currency  rating_count_tot  user_rating\n",
              "16                   Facebook    0.0      USD           2974676          3.5\n",
              "519                 Instagram    0.0      USD           2161558          4.5\n",
              "1346           Clash of Clans    0.0      USD           2130805          4.5\n",
              "707                Temple Run    0.0      USD           1724546          4.5\n",
              "7     Pandora - Music & Radio    0.0      USD           1126879          4.0"
            ]
          },
          "metadata": {
            "tags": []
          },
          "execution_count": 40
        }
      ]
    },
    {
      "cell_type": "markdown",
      "metadata": {
        "id": "QgEdlWmNaYCq",
        "colab_type": "text"
      },
      "source": [
        "We can see the data in columns track_name and currency are represented using text, not numbers. In Python, we can create text by enclosing a sequence of characters within quotation marks (\" \"):"
      ]
    },
    {
      "cell_type": "code",
      "metadata": {
        "id": "WBFUtlj3aY5S",
        "colab_type": "code",
        "colab": {
          "base_uri": "https://localhost:8080/",
          "height": 51
        },
        "outputId": "c54414b7-d191-4696-9506-4228efe89e65"
      },
      "source": [
        "app_name = \"Facebook\"\n",
        "currency = \"USD\"\n",
        "print(app_name)\n",
        "print(currency)"
      ],
      "execution_count": null,
      "outputs": [
        {
          "output_type": "stream",
          "text": [
            "Facebook\n",
            "USD\n"
          ],
          "name": "stdout"
        }
      ]
    },
    {
      "cell_type": "markdown",
      "metadata": {
        "id": "aqGOHpC1al5f",
        "colab_type": "text"
      },
      "source": [
        "Python syntax allows both double quotation marks (\" \") and single quotation marks (' '). So if we want to create the word \"Facebook,\" we can use either \"Facebook\", or 'Facebook'."
      ]
    },
    {
      "cell_type": "code",
      "metadata": {
        "id": "Vfahnw8XauGV",
        "colab_type": "code",
        "colab": {
          "base_uri": "https://localhost:8080/",
          "height": 51
        },
        "outputId": "91ee9023-c15f-44d1-d9a3-88fbe318821e"
      },
      "source": [
        "fb_1 = \"Facebook\"\n",
        "fb_2 = 'Facebook'\n",
        "\n",
        "print(fb_1)\n",
        "print(fb_2)"
      ],
      "execution_count": null,
      "outputs": [
        {
          "output_type": "stream",
          "text": [
            "Facebook\n",
            "Facebook\n"
          ],
          "name": "stdout"
        }
      ]
    },
    {
      "cell_type": "markdown",
      "metadata": {
        "id": "2TRNqS6sa9u2",
        "colab_type": "text"
      },
      "source": [
        "In programming, we call sequences of characters like \"Facebook\", \"USD\", or \"dasdaslkj\" strings. In Python, a string is of the str type:\n",
        "\n"
      ]
    },
    {
      "cell_type": "code",
      "metadata": {
        "id": "HvakyCHSa-bS",
        "colab_type": "code",
        "colab": {
          "base_uri": "https://localhost:8080/",
          "height": 34
        },
        "outputId": "1639d3b2-8c95-4b5e-93be-87bb5d53e15b"
      },
      "source": [
        "type('Facebook')"
      ],
      "execution_count": null,
      "outputs": [
        {
          "output_type": "execute_result",
          "data": {
            "text/plain": [
              "str"
            ]
          },
          "metadata": {
            "tags": []
          },
          "execution_count": 3
        }
      ]
    },
    {
      "cell_type": "markdown",
      "metadata": {
        "id": "Ezs-PAeybDkE",
        "colab_type": "text"
      },
      "source": [
        "When we create strings, we're not limited to using letters — we can also use numbers, spaces, or other characters:\n",
        "\n"
      ]
    },
    {
      "cell_type": "code",
      "metadata": {
        "id": "PfcpFoG6bEHz",
        "colab_type": "code",
        "colab": {
          "base_uri": "https://localhost:8080/",
          "height": 51
        },
        "outputId": "84dff69e-810e-4a85-aa5e-0ec5e6853c49"
      },
      "source": [
        "game = 'Clash of Clans'\n",
        "short_description = 'Clash of clans is free and has an average rating of 4.5'\n",
        "print(game)\n",
        "print(short_description)"
      ],
      "execution_count": null,
      "outputs": [
        {
          "output_type": "stream",
          "text": [
            "Clash of Clans\n",
            "Clash of clans is free and has an average rating of 4.5\n"
          ],
          "name": "stdout"
        }
      ]
    },
    {
      "cell_type": "code",
      "metadata": {
        "id": "mHQC_Q53beO5",
        "colab_type": "code",
        "colab": {
          "base_uri": "https://localhost:8080/",
          "height": 85
        },
        "outputId": "c0789203-db0f-41e2-f4b3-7411e3138a8f"
      },
      "source": [
        "app_name = \"Pandora - Music & Radio\"\n",
        "\n",
        "average_rating = \"4.0\"\n",
        "\n",
        "total_ratings = \"1724546\"\n",
        "\n",
        "price = \"free\"\n",
        "\n",
        "print(app_name)\n",
        "print(average_rating)\n",
        "print(total_ratings)\n",
        "print(price)"
      ],
      "execution_count": null,
      "outputs": [
        {
          "output_type": "stream",
          "text": [
            "Pandora - Music & Radio\n",
            "4.0\n",
            "1724546\n",
            "free\n"
          ],
          "name": "stdout"
        }
      ]
    },
    {
      "cell_type": "markdown",
      "metadata": {
        "id": "z7W7R8QxboCM",
        "colab_type": "text"
      },
      "source": [
        "Sometimes we'll need to create strings with quotation marks inside, like in this example: Facebook's old motto was 'move fast and break things'.\n",
        "\n",
        "In situations like these, we need to alternate double quotation marks (\" \") with single quotation marks (' '):"
      ]
    },
    {
      "cell_type": "code",
      "metadata": {
        "id": "JzFXOIBcbuIc",
        "colab_type": "code",
        "colab": {
          "base_uri": "https://localhost:8080/",
          "height": 34
        },
        "outputId": "68c351c5-c537-4d69-d054-0d1dc9a153d4"
      },
      "source": [
        "motto = \"Facebook's old motto was 'move fast and break things'.\"\n",
        "print(motto)"
      ],
      "execution_count": null,
      "outputs": [
        {
          "output_type": "stream",
          "text": [
            "Facebook's old motto was 'move fast and break things'.\n"
          ],
          "name": "stdout"
        }
      ]
    },
    {
      "cell_type": "markdown",
      "metadata": {
        "id": "kfiEPzxcb8JP",
        "colab_type": "text"
      },
      "source": [
        "Above, we started the string with a double quotation mark. This lets Python know the string ends where the second double quotation mark is. As a consequence, Python considers the single quotation marks in 'move fast and break things' as being part of the string.\n",
        "\n",
        "![alt text](https://s3.amazonaws.com/dq-content/311/py1m1_cb31.svg)\n",
        "\n",
        "However, we may want to surround the motto move fast and break things with double quotation marks: Facebook's old motto was \"move fast and break things.\". One solution is using single quotation marks to specify the start and the end of the string. However, the single quotation mark in Facebook's will cause Python to think that the string ends there.\n",
        "\n",
        "![alt text](https://s3.amazonaws.com/dq-content/311/py1m1_cb32.svg)\n",
        "\n",
        "Creating the string above will result in a syntax error because Python is confused about what comes after the string.\n",
        "\n",
        "\n",
        "\n"
      ]
    },
    {
      "cell_type": "code",
      "metadata": {
        "id": "4xelccD3c9Fs",
        "colab_type": "code",
        "colab": {
          "base_uri": "https://localhost:8080/",
          "height": 130
        },
        "outputId": "a60b9f3a-f67d-4e22-ab2a-2cb7835e20bc"
      },
      "source": [
        "motto = 'Facebook's old motto was \"move fast and break things\""
      ],
      "execution_count": null,
      "outputs": [
        {
          "output_type": "error",
          "ename": "SyntaxError",
          "evalue": "ignored",
          "traceback": [
            "\u001b[0;36m  File \u001b[0;32m\"<ipython-input-7-d50286c69a83>\"\u001b[0;36m, line \u001b[0;32m1\u001b[0m\n\u001b[0;31m    motto = 'Facebook's old motto was \"move fast and break things\"\u001b[0m\n\u001b[0m                      ^\u001b[0m\n\u001b[0;31mSyntaxError\u001b[0m\u001b[0;31m:\u001b[0m invalid syntax\n"
          ]
        }
      ]
    },
    {
      "cell_type": "markdown",
      "metadata": {
        "id": "Fj_KULQwdF_I",
        "colab_type": "text"
      },
      "source": [
        "Fortunately, we can cancel the special function of the second single quotation mark (its special function is to end the string) by typing a backslash character (\\) in front of it:\n",
        "\n"
      ]
    },
    {
      "cell_type": "code",
      "metadata": {
        "id": "9TBj8qW8cG_o",
        "colab_type": "code",
        "colab": {
          "base_uri": "https://localhost:8080/",
          "height": 34
        },
        "outputId": "6d340d60-e1fb-4ed7-82fa-b80225b6caa2"
      },
      "source": [
        "motto = 'Facebook\\'s new motto is \"move fast with stable infra.\"'\n",
        "\n",
        "print(motto)"
      ],
      "execution_count": null,
      "outputs": [
        {
          "output_type": "stream",
          "text": [
            "Facebook's new motto is \"move fast with stable infra.\"\n"
          ],
          "name": "stdout"
        }
      ]
    },
    {
      "cell_type": "markdown",
      "metadata": {
        "id": "l9YXFb4RdR21",
        "colab_type": "text"
      },
      "source": [
        "![alt text](https://s3.amazonaws.com/dq-content/311/py1m1_cb34.svg)\n",
        "\n",
        "The \\ character has a special function within a string: it escapes (cancels) the special function of characters. Above, we used \\ to escape the second single quotation mark, which had the special function of ending the string.\n",
        "\n",
        "When we have two or more distinct strings, it's possible to link them together using the + operator:\n",
        "\n",
        "![alt text](https://s3.amazonaws.com/dq-content/311/py1m1_cb35.svg)\n",
        "\n",
        "The process of linking two or more strings together is called concatenation.\n",
        "\n",
        "It's also possible to concatenate a string with one or more copies of itself using the * operator, followed by a number which specifies the number of times the string has to be multiplied:\n",
        "\n",
        "![alt text](https://s3.amazonaws.com/dq-content/311/py1m1_cb36.svg)\n",
        "\n",
        "We can't perform arithmetical operations between strings and integers, or strings and floats (decimal numbers).\n",
        "\n",
        "![alt text](https://s3.amazonaws.com/dq-content/311/py1m1_cb37.svg)\n",
        "\n",
        "The only exception is when we concatenate a string with copies of itself and use code like 'a' * 2. But that's not an arithmetical operation anyway, so this exception is rather syntactical.\n",
        "\n",
        "If the strings contain characters that form a valid number (like '4', '3.3', '12', etc.), it's possible to convert them to integers or floats first, and then do the arithmetical operations. We can use the int() or float() command to convert a string of type str to a number of type int or float.\n",
        "\n",
        "Note that we can also convert an int or a float to a str using the str() command. Below, we convert the integer 4 to the string '4' (notice the quotation marks in '4').\n",
        "\n"
      ]
    },
    {
      "cell_type": "code",
      "metadata": {
        "id": "kXcK9xCJeBjg",
        "colab_type": "code",
        "colab": {
          "base_uri": "https://localhost:8080/",
          "height": 35
        },
        "outputId": "9cebbbf2-95c2-41a1-956e-86132746b885"
      },
      "source": [
        "str(4)"
      ],
      "execution_count": null,
      "outputs": [
        {
          "output_type": "execute_result",
          "data": {
            "application/vnd.google.colaboratory.intrinsic": {
              "type": "string"
            },
            "text/plain": [
              "'4'"
            ]
          },
          "metadata": {
            "tags": []
          },
          "execution_count": 9
        }
      ]
    },
    {
      "cell_type": "markdown",
      "metadata": {
        "id": "GrwDgxuaeI_c",
        "colab_type": "text"
      },
      "source": [
        "On a side note, strings are displayed without quotation marks when we use the print() command.\n",
        "\n",
        "![alt text](https://s3.amazonaws.com/dq-content/311/py1m1_noquotes.svg)\n",
        "\n",
        "So far, we've only been working with one-line strings, but we can also write strings over many lines using the triple quotation mark symbol (''' or \"\"\").\n",
        "\n",
        "![alt text](https://s3.amazonaws.com/dq-content/311/py1m1_cb40.svg)\n",
        "\n",
        "Using triple quotation marks also allows us to use both single and double quotation marks without needing to escape them.\n",
        "\n"
      ]
    },
    {
      "cell_type": "code",
      "metadata": {
        "id": "2y51FdTPeiAo",
        "colab_type": "code",
        "colab": {
          "base_uri": "https://localhost:8080/",
          "height": 34
        },
        "outputId": "1d0abbed-1a0f-42b1-8cbe-cef0413b51c8"
      },
      "source": [
        "motto = '''Facebook\\'s new motto is \"move fast with stable infra\".'''\n",
        "\n",
        "print(motto)"
      ],
      "execution_count": null,
      "outputs": [
        {
          "output_type": "stream",
          "text": [
            "Facebook's new motto is \"move fast with stable infra\".\n"
          ],
          "name": "stdout"
        }
      ]
    },
    {
      "cell_type": "markdown",
      "metadata": {
        "id": "8K030-rbfCJ2",
        "colab_type": "text"
      },
      "source": [
        "\n",
        "\n",
        "1.   Assign the string Facebook's rating is to a variable named facebook.\n",
        "2.   Assign the float 3.5 to a variable named fb_rating.\n",
        "3.   Assign the float 3.5 to a variable named fb_rating.\n",
        "4.   Convert fb_rating from a float to a string using the str() command, and assign the converted value to a new variable named fb_rating_str.\n",
        "5.  Concatenate the strings stored in facebook and fb_rating_str to form the string Facebook's rating is 3.5.\n",
        "Assign the concatenated string to a variable named fb.\n",
        "6. You'll need to add a space character between Facebook's rating is and 3.5 to avoid ending up with the string Facebook's rating is3.5.\n",
        "7. Display the fb variable using print() — this is required for answer checking.\n",
        "\n",
        "\n",
        "\n",
        "\n",
        "\n",
        "\n",
        "\n",
        "\n",
        "\n"
      ]
    },
    {
      "cell_type": "code",
      "metadata": {
        "id": "6pcmytZpe8J5",
        "colab_type": "code",
        "colab": {
          "base_uri": "https://localhost:8080/",
          "height": 34
        },
        "outputId": "b741b6f5-65f5-4bf5-97c2-1793da0b3d09"
      },
      "source": [
        "facebook = \"Facebook's rating is \"\n",
        "fb_rating = 3.5\n",
        "\n",
        "fb_rating_str = str(fb_rating)\n",
        "\n",
        "fb = (facebook+fb_rating_str)\n",
        "\n",
        "print (fb)"
      ],
      "execution_count": null,
      "outputs": [
        {
          "output_type": "stream",
          "text": [
            "Facebook's rating is 3.5\n"
          ],
          "name": "stdout"
        }
      ]
    },
    {
      "cell_type": "markdown",
      "metadata": {
        "id": "Pk9DJWZ-fx9s",
        "colab_type": "text"
      },
      "source": [
        "We worked with this table:"
      ]
    },
    {
      "cell_type": "code",
      "metadata": {
        "id": "AC9mNVURitmS",
        "colab_type": "code",
        "colab": {
          "base_uri": "https://localhost:8080/",
          "height": 204
        },
        "outputId": "436ff61d-0577-4c2c-96f6-6b7685bc4366"
      },
      "source": [
        "import pandas as pd\n",
        "appdata_df = pd.read_csv(\"https://docs.google.com/spreadsheets/d/17b-4W9nUqh0QeNDLfGPFXhlKvCru46MXFIx46Jyebfo/export?format=csv&gid=0\")\n",
        "table_1 = appdata_df[['track_name', 'price', 'currency', 'rating_count_tot', 'user_rating']]\n",
        "table_2 = table_1.iloc[[16, 519, 1346, 707, 7 ]]\n",
        "table_2.head()"
      ],
      "execution_count": null,
      "outputs": [
        {
          "output_type": "execute_result",
          "data": {
            "text/html": [
              "<div>\n",
              "<style scoped>\n",
              "    .dataframe tbody tr th:only-of-type {\n",
              "        vertical-align: middle;\n",
              "    }\n",
              "\n",
              "    .dataframe tbody tr th {\n",
              "        vertical-align: top;\n",
              "    }\n",
              "\n",
              "    .dataframe thead th {\n",
              "        text-align: right;\n",
              "    }\n",
              "</style>\n",
              "<table border=\"1\" class=\"dataframe\">\n",
              "  <thead>\n",
              "    <tr style=\"text-align: right;\">\n",
              "      <th></th>\n",
              "      <th>track_name</th>\n",
              "      <th>price</th>\n",
              "      <th>currency</th>\n",
              "      <th>rating_count_tot</th>\n",
              "      <th>user_rating</th>\n",
              "    </tr>\n",
              "  </thead>\n",
              "  <tbody>\n",
              "    <tr>\n",
              "      <th>16</th>\n",
              "      <td>Facebook</td>\n",
              "      <td>0.0</td>\n",
              "      <td>USD</td>\n",
              "      <td>2974676</td>\n",
              "      <td>3.5</td>\n",
              "    </tr>\n",
              "    <tr>\n",
              "      <th>519</th>\n",
              "      <td>Instagram</td>\n",
              "      <td>0.0</td>\n",
              "      <td>USD</td>\n",
              "      <td>2161558</td>\n",
              "      <td>4.5</td>\n",
              "    </tr>\n",
              "    <tr>\n",
              "      <th>1346</th>\n",
              "      <td>Clash of Clans</td>\n",
              "      <td>0.0</td>\n",
              "      <td>USD</td>\n",
              "      <td>2130805</td>\n",
              "      <td>4.5</td>\n",
              "    </tr>\n",
              "    <tr>\n",
              "      <th>707</th>\n",
              "      <td>Temple Run</td>\n",
              "      <td>0.0</td>\n",
              "      <td>USD</td>\n",
              "      <td>1724546</td>\n",
              "      <td>4.5</td>\n",
              "    </tr>\n",
              "    <tr>\n",
              "      <th>7</th>\n",
              "      <td>Pandora - Music &amp; Radio</td>\n",
              "      <td>0.0</td>\n",
              "      <td>USD</td>\n",
              "      <td>1126879</td>\n",
              "      <td>4.0</td>\n",
              "    </tr>\n",
              "  </tbody>\n",
              "</table>\n",
              "</div>"
            ],
            "text/plain": [
              "                   track_name  price currency  rating_count_tot  user_rating\n",
              "16                   Facebook    0.0      USD           2974676          3.5\n",
              "519                 Instagram    0.0      USD           2161558          4.5\n",
              "1346           Clash of Clans    0.0      USD           2130805          4.5\n",
              "707                Temple Run    0.0      USD           1724546          4.5\n",
              "7     Pandora - Music & Radio    0.0      USD           1126879          4.0"
            ]
          },
          "metadata": {
            "tags": []
          },
          "execution_count": 15
        }
      ]
    },
    {
      "cell_type": "markdown",
      "metadata": {
        "id": "oV8NDmwijpVT",
        "colab_type": "text"
      },
      "source": [
        "Each value in the table is a data point. For instance, the first row has five data points:\n",
        "\n",
        "* Facebook\n",
        "* 0.0\n",
        "* USD\n",
        "* 2974676\n",
        "* 3.5\n",
        "\n",
        "A collection of data points make up a data set. We can understand our entire table above as a collection of data points, so we call the entire table a data set. We can see that our data set has five rows and five columns.\n",
        "\n",
        "When we work with data sets, we need to store them in the computer memory to be able to retrieve and manipulate the data points. Using what we've learned so far, we might think we could store each data point in a variable — for instance, this is how we might store the first row's data points:\n",
        "\n"
      ]
    },
    {
      "cell_type": "code",
      "metadata": {
        "id": "8fyiZxYcj-Q5",
        "colab_type": "code",
        "colab": {}
      },
      "source": [
        "track_name_row1 = 'Facebook'\n",
        "price_row1 = 0.0\n",
        "currency_row1 = 'USD'\n",
        "rating_count_tot_row1 = 2974676\n",
        "user_rating_row1 = 3.5"
      ],
      "execution_count": null,
      "outputs": []
    },
    {
      "cell_type": "markdown",
      "metadata": {
        "id": "OkwYGiv7kWEG",
        "colab_type": "text"
      },
      "source": [
        "Above, we stored:\n",
        "\n",
        "* The text \"Facebook\" as a string\n",
        "* The price 0.0 as a float\n",
        "* The text \"USD\" as a string\n",
        "* The rating count 2,974,676 as an integer\n",
        "* The user rating 3.5 as a float\n",
        "\n",
        "Creating a variable for each data point in our data set would be a cumbersome process. Fortunately, we can store data more efficiently using lists. This is how we can create a list of data points for the first row:\n",
        "\n"
      ]
    },
    {
      "cell_type": "code",
      "metadata": {
        "id": "N-sIaOyfkc-L",
        "colab_type": "code",
        "colab": {
          "base_uri": "https://localhost:8080/",
          "height": 51
        },
        "outputId": "f45207c9-bd08-4f70-a6b2-67bc54b1a404"
      },
      "source": [
        "row_1 = ['Facebook', 0.0, 'USD', 2974676, 3.5]\n",
        "print(row_1)\n",
        "type(row_1)"
      ],
      "execution_count": null,
      "outputs": [
        {
          "output_type": "stream",
          "text": [
            "['Facebook', 0.0, 'USD', 2974676, 3.5]\n"
          ],
          "name": "stdout"
        },
        {
          "output_type": "execute_result",
          "data": {
            "text/plain": [
              "list"
            ]
          },
          "metadata": {
            "tags": []
          },
          "execution_count": 18
        }
      ]
    },
    {
      "cell_type": "markdown",
      "metadata": {
        "id": "862-QRNYkvzi",
        "colab_type": "text"
      },
      "source": [
        "To create the list above, we:\n",
        "\n",
        "* Typed out a sequence of data points and separated each with a comma: 'Facebook', 0.0, 'USD', 2974676, 3.5\n",
        "* Surrounded the sequence with brackets: ['Facebook', 0.0, 'USD', 2974676, 3.5]\n",
        "After we created the list, we stored it in the computer's memory by assigning it to a variable named row_1.\n",
        "\n",
        "To create a list of data points, we only need to:\n",
        "\n",
        "* Separate the data points with a comma.\n",
        "* Surround the sequence of data points with brackets.\n",
        "* Now let's get a little practice with creating lists."
      ]
    },
    {
      "cell_type": "code",
      "metadata": {
        "id": "AiFD1B2ak3Q_",
        "colab_type": "code",
        "colab": {}
      },
      "source": [
        "row_2 = [\"Instagram\", 0.0, \"USD\", 2161558, 4.5]\n",
        "\n",
        "row_3 = [\"Clash of Clans\", 0.0, \"USD\", 2130805, 4.5]"
      ],
      "execution_count": null,
      "outputs": []
    },
    {
      "cell_type": "markdown",
      "metadata": {
        "id": "a3SNgnU_lFv1",
        "colab_type": "text"
      },
      "source": [
        "A list can contain both mixed and identical data types (so far we've learned four data types: integers, floats, strings, and lists). A list like [4, 5, 6] has identical data types (only integers), while the list ['Facebook', 0.0, 'USD', 2974676, 3.5] has mixed data types:\n",
        "\n",
        "* Two strings ('Facebook', 'USD')\n",
        "* Two floats (0.0, 3.5)\n",
        "* One integer (2974676)\n",
        "\n",
        "The ['Facebook', 0.0, 'USD', 2974676, 3.5] list has five data points. To find the length of a list, we can use the len() command:"
      ]
    },
    {
      "cell_type": "code",
      "metadata": {
        "id": "k7aix_AplKX3",
        "colab_type": "code",
        "colab": {
          "base_uri": "https://localhost:8080/",
          "height": 85
        },
        "outputId": "76ad6dc9-52f0-4700-f7d9-82baccf023a5"
      },
      "source": [
        "print(row_1)\n",
        "print(len(row_1))\n",
        "\n",
        "list_1 = [1, 5, 0]\n",
        "print(len(list_1))\n",
        "\n",
        "list_2 = []\n",
        "print(len(list_2))"
      ],
      "execution_count": null,
      "outputs": [
        {
          "output_type": "stream",
          "text": [
            "['Facebook', 0.0, 'USD', 2974676, 3.5]\n",
            "5\n",
            "3\n",
            "0\n"
          ],
          "name": "stdout"
        }
      ]
    },
    {
      "cell_type": "markdown",
      "metadata": {
        "id": "10OgckFxly5z",
        "colab_type": "text"
      },
      "source": [
        "For small lists, we can just count the data points on our screens to find the length, but the len() command will prove very useful later on, when we work with lists containing thousands of elements (we'll see an actual example later in this mission).\n",
        "\n",
        "Each element (data point) in a list has a specific number associated with it, called an index number. The indexing always starts at 0, so the first element will have the index number 0, the second element the index number 1, and so on.\n",
        "\n",
        "![alt text](https://s3.amazonaws.com/dq-content/312/py1m2_positive_idx.svg)\n",
        "\n",
        "To quickly find the index of a list element, identify its position number in the list, and then subtract 1. For example, the string 'USD' is the third element of the list (position number 3), so its index number must be 2 since 3 - 1 = 2.\n",
        "\n",
        "The index numbers help us retrieve individual elements from a list. Looking back at the list row_1 from the code example above, we can retrieve the first element (the string 'Facebook') with the index number 0 by running the code row_1[0]."
      ]
    },
    {
      "cell_type": "code",
      "metadata": {
        "id": "UmHUTLVxmCLH",
        "colab_type": "code",
        "colab": {
          "base_uri": "https://localhost:8080/",
          "height": 52
        },
        "outputId": "82376923-e7d5-42f9-be81-2b6612af0d66"
      },
      "source": [
        "print(row_1)\n",
        "row_1[0]"
      ],
      "execution_count": null,
      "outputs": [
        {
          "output_type": "stream",
          "text": [
            "['Facebook', 0.0, 'USD', 2974676, 3.5]\n"
          ],
          "name": "stdout"
        },
        {
          "output_type": "execute_result",
          "data": {
            "application/vnd.google.colaboratory.intrinsic": {
              "type": "string"
            },
            "text/plain": [
              "'Facebook'"
            ]
          },
          "metadata": {
            "tags": []
          },
          "execution_count": 25
        }
      ]
    },
    {
      "cell_type": "markdown",
      "metadata": {
        "id": "qkV4xy8WmNN3",
        "colab_type": "text"
      },
      "source": [
        "As a side note, you may have noticed above that we used row_1[0] rather than print(row_1[0]). Recall from the first mission that the code editor displays the last line of code regardless of whether we use print() or not.\n",
        "\n",
        "The syntax for retrieving individual list elements follows the model list_name[index_number]. For instance, the name of our list above is row_1 and the index number of the first element is 0 — following the list_name[index_number] model, we get row_1[0], where the index number 0 is in square brackets after the variable name row_1.\n",
        "\n",
        "![alt text](https://s3.amazonaws.com/dq-content/312/py1m2_pattern.svg)\n",
        "\n",
        "This is how we can retrieve each element in row_1:\n",
        "\n",
        "![alt text](![alt text](https://s3.amazonaws.com/dq-content/312/py1m2_cb5.svg))\n",
        "\n",
        "Retrieving list elements makes it easier to perform operations. For instance, we can select the ratings for Facebook and Instagram, and find the average or the difference between the two:"
      ]
    },
    {
      "cell_type": "code",
      "metadata": {
        "id": "haI4BsFmmcRa",
        "colab_type": "code",
        "colab": {
          "base_uri": "https://localhost:8080/",
          "height": 85
        },
        "outputId": "a2f21d9d-5a54-45ea-af87-cf8b1b1069dd"
      },
      "source": [
        "print(row_1)\n",
        "print(row_2)\n",
        "\n",
        "difference = row_2[4] - row_1[4]\n",
        "average_rating = (row_1[4] + row_2[4]) / 2\n",
        "\n",
        "print(difference)\n",
        "print(average_rating)"
      ],
      "execution_count": null,
      "outputs": [
        {
          "output_type": "stream",
          "text": [
            "['Facebook', 0.0, 'USD', 2974676, 3.5]\n",
            "['Instagram', 0.0, 'USD', 2161558, 4.5]\n",
            "1.0\n",
            "4.0\n"
          ],
          "name": "stdout"
        }
      ]
    },
    {
      "cell_type": "markdown",
      "metadata": {
        "id": "4zNSrLRPnD8U",
        "colab_type": "text"
      },
      "source": [
        "In the code editor, you can already see the lists for the first three rows.\n",
        "\n",
        "The fourth element in each list describes the number of ratings an app has received. Retrieve this fourth element from each list, and then find the average value of the retrieved numbers.\n",
        "\n",
        "1. Assign the fourth element from the list row_1 to a variable named ratings_1. Don't forget that the indexing starts at 0.\n",
        "2. Assign the fourth element from the list row_2 to a variable named ratings_2.\n",
        "3. Assign the fourth element from the list row_3 to a variable named ratings_3.\n",
        "4. Add the three numbers retrieved together and save the sum to a variable named total.\n",
        "5. Divide the sum (now saved in the variable total) by 3 to get the average number of ratings for the first three rows. Assign the result to a variable named average."
      ]
    },
    {
      "cell_type": "code",
      "metadata": {
        "id": "shOlo04wnN9R",
        "colab_type": "code",
        "colab": {
          "base_uri": "https://localhost:8080/",
          "height": 102
        },
        "outputId": "c239a17f-eb2e-46e6-969b-709cbb3b553c"
      },
      "source": [
        "row_1 = ['Facebook', 0.0, 'USD', 2974676, 3.5]\n",
        "row_2 = ['Instagram', 0.0, 'USD', 2161558, 4.5]\n",
        "row_3 = ['Clash of Clans', 0.0, 'USD', 2130805, 4.5]\n",
        "\n",
        "ratings_1 = row_1[3]\n",
        "ratings_2 = row_2[3]\n",
        "ratings_3 = row_3[3]\n",
        "\n",
        "total = (ratings_1+ratings_2+ratings_3)\n",
        "\n",
        "average = total/3\n",
        "\n",
        "print (ratings_1)\n",
        "print (ratings_3)\n",
        "print (ratings_3)\n",
        "print(total)\n",
        "print(average)"
      ],
      "execution_count": null,
      "outputs": [
        {
          "output_type": "stream",
          "text": [
            "2974676\n",
            "2130805\n",
            "2130805\n",
            "7267039\n",
            "2422346.3333333335\n"
          ],
          "name": "stdout"
        }
      ]
    },
    {
      "cell_type": "markdown",
      "metadata": {
        "id": "3K2vWz6QnS1d",
        "colab_type": "text"
      },
      "source": [
        "In Python, we have two indexing systems for lists:\n",
        "\n",
        "* Positive indexing: the first element has the index number 0, the second element has the index number 1, and so on.\n",
        "* Negative indexing: the last element has the index number -1, the second to last element has the index number -2, and so on.\n",
        "\n",
        "![alt text](https://s3.amazonaws.com/dq-content/312/py1m2_positive_negative.svg)\n",
        "\n",
        "In practice, we almost always use positive indexing to retrieve list elements. Negative indexing is useful when we want to select the last element of a list — especially if the list is long, and we can't tell the length by counting."
      ]
    },
    {
      "cell_type": "code",
      "metadata": {
        "id": "z5Tj_tgTnxxG",
        "colab_type": "code",
        "colab": {
          "base_uri": "https://localhost:8080/",
          "height": 68
        },
        "outputId": "139c3de1-8967-44e8-8bf2-3e95ac7d53df"
      },
      "source": [
        "print(row_1)\n",
        "\n",
        "print(row_1[-1])\n",
        "print(row_1[4])"
      ],
      "execution_count": null,
      "outputs": [
        {
          "output_type": "stream",
          "text": [
            "['Facebook', 0.0, 'USD', 2974676, 3.5]\n",
            "3.5\n",
            "3.5\n"
          ],
          "name": "stdout"
        }
      ]
    },
    {
      "cell_type": "markdown",
      "metadata": {
        "id": "EDmfBqEloBGf",
        "colab_type": "text"
      },
      "source": [
        "Notice that if we use an index number that is outside the range of the two indexing systems, we'll get an IndexError.\n",
        "\n",
        "![alt text](https://s3.amazonaws.com/dq-content/312/py1m2_cb8.svg)\n",
        "\n",
        "The last element in each list shows the average rating of each application.\n",
        "\n",
        "Retrieve the ratings for the first three rows, and then find the average value of all the ratings retrieved.\n",
        "\n",
        "1. Assign the last element from the list row_1 to a variable named rating_1. Try to take advantage of negative indexing.\n",
        "2. Assign the last element from the list row_2 to a variable named rating_2.\n",
        "3. Assign the last element from the list row_3 to a variable named rating_3.\n",
        "4. Add the three ratings together and save the sum to a variable named total_rating.\n",
        "5. Divide the total by 3 to get the average rating. Assign the result to a variable named average_rating."
      ]
    },
    {
      "cell_type": "code",
      "metadata": {
        "id": "72w19eXhoPPG",
        "colab_type": "code",
        "colab": {}
      },
      "source": [
        "row_1 = ['Facebook', 0.0, 'USD', 2974676, 3.5]\n",
        "row_2 = ['Instagram', 0.0, 'USD', 2161558, 4.5]\n",
        "row_3 = ['Clash of Clans', 0.0, 'USD', 2130805, 4.5]\n",
        "rating_1 = row_1[-1]\n",
        "rating_2 = row_2[-1]\n",
        "rating_3 = row_3[-1]\n",
        "\n",
        "total_rating = rating_1 + rating_2 + rating_3\n",
        "average_rating = total_rating / 3"
      ],
      "execution_count": null,
      "outputs": []
    },
    {
      "cell_type": "markdown",
      "metadata": {
        "id": "LbbN9gs4odAy",
        "colab_type": "text"
      },
      "source": [
        "Oftentimes, we need to retrieve more than one element from a list. Let's say we have the list ['Facebook', 0.0, 'USD', 2974676, 3.5], and we're interested in isolating only the name of the app and the data about ratings (the number of ratings and the rating). This is how we can do that, using what we've learned so far:\n",
        "\n"
      ]
    },
    {
      "cell_type": "code",
      "metadata": {
        "id": "IgEsYKE6oerc",
        "colab_type": "code",
        "colab": {
          "base_uri": "https://localhost:8080/",
          "height": 85
        },
        "outputId": "9d0fa6f9-dc77-4578-934a-32395dbb559f"
      },
      "source": [
        "print(row_1)\n",
        "app_name = row_1[0]\n",
        "n_of_ratings = row_1[3]\n",
        "rating = row_1[-1]\n",
        "print(app_name)\n",
        "print(n_of_ratings)\n",
        "print(rating)"
      ],
      "execution_count": null,
      "outputs": [
        {
          "output_type": "stream",
          "text": [
            "['Facebook', 0.0, 'USD', 2974676, 3.5]\n",
            "Facebook\n",
            "2974676\n",
            "3.5\n"
          ],
          "name": "stdout"
        }
      ]
    },
    {
      "cell_type": "markdown",
      "metadata": {
        "id": "5FkiJxP4owTT",
        "colab_type": "text"
      },
      "source": [
        "If we wanted to do this for every app, we'd end up having a lot of variables, making our code lengthy and hard to keep track of. A better solution is to store the data we want in a separate list."
      ]
    },
    {
      "cell_type": "code",
      "metadata": {
        "id": "NyI2LuNpoyDP",
        "colab_type": "code",
        "colab": {
          "base_uri": "https://localhost:8080/",
          "height": 51
        },
        "outputId": "e41a71a6-9ff8-4318-a64b-9ca19fa2e878"
      },
      "source": [
        "print(row_1)\n",
        "\n",
        "fb_rating_data = [row_1[0], row_1[3], row_1[-1]]\n",
        "print(fb_rating_data)"
      ],
      "execution_count": null,
      "outputs": [
        {
          "output_type": "stream",
          "text": [
            "['Facebook', 0.0, 'USD', 2974676, 3.5]\n",
            "['Facebook', 2974676, 3.5]\n"
          ],
          "name": "stdout"
        }
      ]
    },
    {
      "cell_type": "markdown",
      "metadata": {
        "id": "GgqVOZ6vpYw8",
        "colab_type": "text"
      },
      "source": [
        "Above, we managed to isolate the three list elements of interest in a separate list. To do that, we used the code row_1[0], row_1[3], row_1[-1] to retrieve the first, fourth, and last element, and then we surrounded that part of code with square brackets to create a new list.\n",
        "\n",
        "1. For Facebook, Instagram, and Pandora — Music & Radio, isolate the rating data in separate lists. Each list should contain the name of the app, the rating count, and the user rating. Don't forget that indexing starts at 0.\n",
        "\n",
        "* For Facebook, assign the list to a variable named fb_rating_data.\n",
        "* For Instagram, assign the list to a variable named insta_rating_data.\n",
        "* For Pandora — Music & Radio, assign the list to a variable named pandora_rating_data.\n",
        "\n",
        "2. Compute the average user rating for Facebook, Instagram, and Pandora — Music & Radio using the data you stored in fb_rating_data, insta_rating_data, and pandora_rating_data.\n",
        "\n",
        "* You'll need to add the ratings together first, and then divide the total by the number of ratings.\n",
        "* Assign the result to a variable named avg_rating.\n",
        "* As a side note, we could calculate the average rating here a little bit better using the weighted mean — we'll learn about the weighted mean in the statistics courses."
      ]
    },
    {
      "cell_type": "code",
      "metadata": {
        "id": "Seg2fwv-ppPu",
        "colab_type": "code",
        "colab": {
          "base_uri": "https://localhost:8080/",
          "height": 85
        },
        "outputId": "78184301-2a0c-49fc-a4df-c542e4971639"
      },
      "source": [
        "row_1 = ['Facebook', 0.0, 'USD', 2974676, 3.5]\n",
        "row_2 = ['Instagram', 0.0, 'USD', 2161558, 4.5]\n",
        "row_3 = ['Clash of Clans', 0.0, 'USD', 2130805, 4.5]\n",
        "row_4 = ['Temple Run', 0.0, 'USD', 1724546, 4.5]\n",
        "row_5 = ['Pandora - Music & Radio', 0.0, 'USD', 1126879, 4.0]\n",
        "\n",
        "fb_rating_data = [row_1[0], row_1[3], row_1[-1]]\n",
        "insta_rating_data = [row_2[0], row_2[3], row_2[4]]\n",
        "pandora_rating_data = [row_5[0], row_5[3], row_5[4]]\n",
        "\n",
        "\n",
        "print(fb_rating_data)\n",
        "print(insta_rating_data)\n",
        "print(pandora_rating_data)\n",
        "\n",
        "\n",
        "avg_rating = (fb_rating_data[2] + insta_rating_data[2] + pandora_rating_data[2]) / 3\n",
        "print(avg_rating)"
      ],
      "execution_count": null,
      "outputs": [
        {
          "output_type": "stream",
          "text": [
            "['Facebook', 2974676, 3.5]\n",
            "['Instagram', 2161558, 4.5]\n",
            "['Pandora - Music & Radio', 1126879, 4.0]\n",
            "4.0\n"
          ],
          "name": "stdout"
        }
      ]
    },
    {
      "cell_type": "markdown",
      "metadata": {
        "id": "twbMqPMxuucG",
        "colab_type": "text"
      },
      "source": [
        "In the last exercise, we retrieved the first, fourth, and last list elements to isolate the rating data. We can also retrieve the first three list elements to isolate the pricing data:\n"
      ]
    },
    {
      "cell_type": "code",
      "metadata": {
        "id": "KKuOKTY8uxNS",
        "colab_type": "code",
        "colab": {
          "base_uri": "https://localhost:8080/",
          "height": 51
        },
        "outputId": "d9274870-19ca-438a-9382-37d48dc315de"
      },
      "source": [
        "print(row_3)\n",
        "\n",
        "cc_pricing_data = [row_3[0], row_3[1], row_3[2]]\n",
        "print(cc_pricing_data)"
      ],
      "execution_count": null,
      "outputs": [
        {
          "output_type": "stream",
          "text": [
            "['Clash of Clans', 0.0, 'USD', 2130805, 4.5]\n",
            "['Clash of Clans', 0.0, 'USD']\n"
          ],
          "name": "stdout"
        }
      ]
    },
    {
      "cell_type": "markdown",
      "metadata": {
        "id": "j95A6QfOvH9V",
        "colab_type": "text"
      },
      "source": [
        "Instead of selecting element by element, we can use a syntax shortcut:\n",
        "\n",
        "![alt text](https://s3.amazonaws.com/dq-content/312/py1m2_cb12.svg)\n",
        "\n",
        "When we select the first n elements (n stands for a number) from a list named a_list, we can use the syntax shortcut a_list[0:n]. In the example above, we needed to select the first three elements from the list row_3, so we used row_3[0:3].\n",
        "\n",
        "When we selected the first three elements, we sliced a part of the list. For this reason, the process of selecting a part of a list is called list slicing.\n",
        "\n",
        "There are many ways that we might want to slice a list:\n",
        "\n",
        "![alt text](https://s3.amazonaws.com/dq-content/312/py1m2_slices.svg)\n",
        "\n",
        "To retrieve any list slice we want:\n",
        "\n",
        "1. We first need to identify the first and the last element of the slice.\n",
        "2. We then need to identify the index numbers of the first and the last element of the slice.\n",
        "3. Finally we can retrieve the list slice we want by using the syntax a_list[m:n], where:\n",
        "* m represents the index number of the first element of the slice; and\n",
        "* n represents the index number of the last element of the slice plus one (if the last element has the index number 2, then n will be 3, if the last element has the index number 4, then n will be 5, and so on).\n",
        "\n",
        "![alt text](https://s3.amazonaws.com/dq-content/312/py1m2_any_slice.svg)\n",
        "\n",
        "When we need to select the first or last x elements (x stands for a number), we can use even simpler syntax shortcuts:\n",
        "\n",
        "* a_list[:x] when we want to select the first x elements.\n",
        "* a_list[-x:] when we want to select the last x elements.\n",
        "\n"
      ]
    },
    {
      "cell_type": "code",
      "metadata": {
        "id": "gWZAs5yKCFSa",
        "colab_type": "code",
        "colab": {
          "base_uri": "https://localhost:8080/",
          "height": 51
        },
        "outputId": "c99ed17e-4932-4691-9e57-6d21c415bc1e"
      },
      "source": [
        "row_3 = ['Clash of Clans', 0,0, 'USD', 2130805, 3.5]\n",
        "\n",
        "firt_3 = row_3[:3]\n",
        "last_3 = row_3[-3:]\n",
        "\n",
        "print(firt_3)\n",
        "print(last_3)"
      ],
      "execution_count": 2,
      "outputs": [
        {
          "output_type": "stream",
          "text": [
            "['Clash of Clans', 0, 0]\n",
            "['USD', 2130805, 3.5]\n"
          ],
          "name": "stdout"
        }
      ]
    },
    {
      "cell_type": "markdown",
      "metadata": {
        "id": "Q64k6DhXD0Jz",
        "colab_type": "text"
      },
      "source": [
        "1. Select the first four elements from row_1 using a list slicing syntax shortcut. Assign the output to a variable named first_4_fb.\n",
        "2. Select the last three elements from row_1 using a list slicing syntax shortcut. Assign the output to a variable named last_3_fb.\n",
        "3. From row_5, select the list slice ['USD', 1126879] using a list slicing syntax shortcut. Assign the output to a variable named pandora_3_4."
      ]
    },
    {
      "cell_type": "code",
      "metadata": {
        "id": "lR1uk6nzEA7u",
        "colab_type": "code",
        "colab": {
          "base_uri": "https://localhost:8080/",
          "height": 68
        },
        "outputId": "f44cc846-b283-45df-cf69-0f30ecd681b8"
      },
      "source": [
        "row_1 = ['Facebook', 0.0, 'USD', 2974676, 3.5]\n",
        "row_2 = ['Instagram', 0.0, 'USD', 2161558, 4.5]\n",
        "row_3 = ['Clash of Clans', 0.0, 'USD', 2130805, 4.5]\n",
        "row_4 = ['Temple Run', 0.0, 'USD', 1724546, 4.5]\n",
        "row_5 = ['Pandora - Music & Radio', 0.0, 'USD', 1126879, 4.0]\n",
        "\n",
        "\n",
        "first_4_fb = row_1[:4]\n",
        "last_3_fb = row_1[-3:]\n",
        "pandora_3_4 = row_5[2:4]\n",
        "\n",
        "print(first_4_fb)\n",
        "print(last_3_fb)\n",
        "print(pandora_3_4)"
      ],
      "execution_count": 10,
      "outputs": [
        {
          "output_type": "stream",
          "text": [
            "['Facebook', 0.0, 'USD', 2974676]\n",
            "['USD', 2974676, 3.5]\n",
            "['USD', 1126879]\n"
          ],
          "name": "stdout"
        }
      ]
    },
    {
      "cell_type": "markdown",
      "metadata": {
        "id": "HaqvW-OAF6qK",
        "colab_type": "text"
      },
      "source": [
        "Previously, we introduced lists as a better alternative to using one variable per data point. Instead of having a separate variable for each of the five data points 'Facebook', 0.0, 'USD', 2974676, 3.5, we can bundle the data points together into a list, and then store the list in a single variable.\n",
        "\n",
        "So far, we've been working with a data set having five rows, and we've been storing each row as a list in a separate variable (the variables row_1, row_2, row_3, row_4, and row_5). If we had a data set with 5,000 rows, however, we'd end up with 5,000 variables, which will make our code messy and almost impossible to work with.\n",
        "\n",
        "To solve this problem, we can store our five variables in a single list:\n",
        "\n",
        "![alt text](https://s3.amazonaws.com/dq-content/312/py1m2_cb14.svg)\n",
        "\n",
        "As we can see, data_set is a list that stores five other lists (row_1, row_2, row_3, row_4, and row_5). A list that contains other lists is called a list of lists.\n",
        "\n",
        "The data_set variable is still a list, which means we can retrieve individual list elements and perform list slicing using the syntax we learned. Below, we:\n",
        "\n",
        "Retrieve the first list element (row_1) using data_set[0].\n",
        "Retrieve the last list element (row_5) using data_set[-1].\n",
        "Retrieve the first two list elements (row_1 and row_2) by performing list slicing using data_set[:2].\n"
      ]
    },
    {
      "cell_type": "code",
      "metadata": {
        "id": "d14jcjOPHL_I",
        "colab_type": "code",
        "colab": {
          "base_uri": "https://localhost:8080/",
          "height": 88
        },
        "outputId": "d757fb4c-a168-495c-e3e3-892392e2d8fa"
      },
      "source": [
        "data_set = [row_1, row_2, row_3, row_4, row_5]\n",
        "\n",
        "print(data_set[0]) #Retrieve the first list element (row_1) using data_set[0].\n",
        "print(data_set[-1]) #Retrieve the last list element (row_5) using data_set[-1].\n",
        "print(data_set[:2]) #Retrieve the first two list elements (row_1 and row_2) by performing list slicing using data_set[:2]."
      ],
      "execution_count": 12,
      "outputs": [
        {
          "output_type": "stream",
          "text": [
            "['Facebook', 0.0, 'USD', 2974676, 3.5]\n",
            "['Pandora - Music & Radio', 0.0, 'USD', 1126879, 4.0]\n",
            "[['Facebook', 0.0, 'USD', 2974676, 3.5], ['Instagram', 0.0, 'USD', 2161558, 4.5]]\n"
          ],
          "name": "stdout"
        }
      ]
    },
    {
      "cell_type": "markdown",
      "metadata": {
        "id": "I5hyXRRnIuZe",
        "colab_type": "text"
      },
      "source": [
        "We'll often need to retrieve individual elements from a list that's part of a list of lists — for instance, we may want to retrieve the value 3.5 from ['Facebook', 0.0, 'USD', 2974676, 3.5], which is part of the data_set list of lists. Below, we extract 3.5 from data_set using what we've learned:\n",
        "\n",
        "* We retrieve row_1 using data_set[0], and assign the result to a variable named fb_row.\n",
        "* We print fb_row, which outputs ['Facebook', 0.0, 'USD', 2974676, 3.5].\n",
        "* We retrieve the last element from fb_row using fb_row[-1] (since fb_row is a list), and assign the result to a variable named fb_rating.\n",
        "* Print fb_rating, which outputs 3.5"
      ]
    },
    {
      "cell_type": "code",
      "metadata": {
        "id": "YSDFQoL5I2Tq",
        "colab_type": "code",
        "colab": {
          "base_uri": "https://localhost:8080/",
          "height": 88
        },
        "outputId": "ac16197a-33cb-480f-93ff-61d61f40d5b3"
      },
      "source": [
        "print(data_set)\n",
        "\n",
        "fb_row = data_set[0]\n",
        "print(fb_row)\n",
        "\n",
        "fb_rating = fb_row[-1]\n",
        "print(fb_rating)"
      ],
      "execution_count": 13,
      "outputs": [
        {
          "output_type": "stream",
          "text": [
            "[['Facebook', 0.0, 'USD', 2974676, 3.5], ['Instagram', 0.0, 'USD', 2161558, 4.5], ['Clash of Clans', 0.0, 'USD', 2130805, 4.5], ['Temple Run', 0.0, 'USD', 1724546, 4.5], ['Pandora - Music & Radio', 0.0, 'USD', 1126879, 4.0]]\n",
            "['Facebook', 0.0, 'USD', 2974676, 3.5]\n",
            "3.5\n"
          ],
          "name": "stdout"
        }
      ]
    },
    {
      "cell_type": "markdown",
      "metadata": {
        "id": "aSxGWzLNJpyU",
        "colab_type": "text"
      },
      "source": [
        "Above, we retrieved 3.5 in two steps: we first retrieved data_set[0], and then we retrieved fb_row[-1]. However, there's an easier way to retrieve the same value of 3.5 by chaining the two indices ([0] and [-1]) — the code data_set[0][-1] retrieves 3.5:\n",
        "\n",
        "![alt text](https://s3.amazonaws.com/dq-content/312/py1m2_cb16_new2.svg)\n",
        "\n",
        "Above, we've seen two ways of retrieving the value 3.5. Both ways lead to the same output (3.5), but the second way involves less typing because it elegantly combines the steps we see in the first case. While you can choose either option, people generally choose the second one.\n",
        "\n",
        "1. In the code editor, we've already stored the five rows as lists in separate variables. Group together the five lists in a list of lists. Assign the resulting list of lists to a variable named app_data_set.\n",
        "2. Compute the average rating of the apps by retrieving the right data points from the app_data_set list of lists.\n",
        "* The rating is the last element of each row. You'll need to sum up the ratings and then divide by the number of ratings.\n",
        "* Assign the result to a variable named avg_rating.\n",
        "\n"
      ]
    },
    {
      "cell_type": "code",
      "metadata": {
        "id": "DYJjyD4KRBT0",
        "colab_type": "code",
        "colab": {}
      },
      "source": [
        "app_data_set = [row_1, row_2, row_3, row_4, row_5]\n"
      ],
      "execution_count": null,
      "outputs": []
    },
    {
      "cell_type": "markdown",
      "metadata": {
        "id": "DLWMF9jCJpr1",
        "colab_type": "text"
      },
      "source": [
        ""
      ]
    },
    {
      "cell_type": "markdown",
      "metadata": {
        "id": "sgyf5E_1IuWs",
        "colab_type": "text"
      },
      "source": [
        ""
      ]
    }
  ]
}